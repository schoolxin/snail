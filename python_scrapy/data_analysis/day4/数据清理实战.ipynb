{
 "cells": [
  {
   "cell_type": "code",
   "execution_count": 2,
   "metadata": {
    "pycharm": {
     "name": "#%%\n"
    }
   },
   "outputs": [],
   "source": [
    "import pandas as pd\n",
    "df = pd.read_csv('house_data.csv')"
   ]
  },
  {
   "cell_type": "code",
   "execution_count": 1,
   "metadata": {
    "pycharm": {
     "name": "#%%\n"
    }
   },
   "outputs": [
    {
     "ename": "NameError",
     "evalue": "name 'df' is not defined",
     "output_type": "error",
     "traceback": [
      "\u001B[1;31m---------------------------------------------------------------------------\u001B[0m",
      "\u001B[1;31mNameError\u001B[0m                                 Traceback (most recent call last)",
      "\u001B[1;32m~\\AppData\\Local\\Temp\\ipykernel_17888\\1793760910.py\u001B[0m in \u001B[0;36m<module>\u001B[1;34m\u001B[0m\n\u001B[1;32m----> 1\u001B[1;33m \u001B[0mdf\u001B[0m\u001B[1;33m.\u001B[0m\u001B[0mhead\u001B[0m\u001B[1;33m(\u001B[0m\u001B[1;33m)\u001B[0m\u001B[1;33m\u001B[0m\u001B[1;33m\u001B[0m\u001B[0m\n\u001B[0m",
      "\u001B[1;31mNameError\u001B[0m: name 'df' is not defined"
     ]
    }
   ],
   "source": [
    "df.head()"
   ]
  },
  {
   "cell_type": "code",
   "execution_count": 3,
   "metadata": {
    "pycharm": {
     "name": "#%%\n"
    }
   },
   "outputs": [
    {
     "data": {
      "text/html": [
       "<div>\n",
       "<style scoped>\n",
       "    .dataframe tbody tr th:only-of-type {\n",
       "        vertical-align: middle;\n",
       "    }\n",
       "\n",
       "    .dataframe tbody tr th {\n",
       "        vertical-align: top;\n",
       "    }\n",
       "\n",
       "    .dataframe thead th {\n",
       "        text-align: right;\n",
       "    }\n",
       "</style>\n",
       "<table border=\"1\" class=\"dataframe\">\n",
       "  <thead>\n",
       "    <tr style=\"text-align: right;\">\n",
       "      <th></th>\n",
       "      <th>標題</th>\n",
       "      <th>产权性质</th>\n",
       "      <th>住宅类别</th>\n",
       "      <th>建筑类别</th>\n",
       "      <th>参考月供</th>\n",
       "      <th>年代</th>\n",
       "      <th>建筑面积</th>\n",
       "      <th>户型</th>\n",
       "      <th>楼层</th>\n",
       "      <th>物 业 费</th>\n",
       "      <th>物业类型</th>\n",
       "      <th>结构</th>\n",
       "      <th>装修</th>\n",
       "      <th>總價</th>\n",
       "    </tr>\n",
       "  </thead>\n",
       "  <tbody>\n",
       "    <tr>\n",
       "      <th>0</th>\n",
       "      <td>急售70年产权房源 房东装修 户型正气 产证清晰 随时看房</td>\n",
       "      <td>个人产权</td>\n",
       "      <td>普通住宅</td>\n",
       "      <td>板楼</td>\n",
       "      <td>NaN</td>\n",
       "      <td>1989年</td>\n",
       "      <td>70.40</td>\n",
       "      <td>2室2厅1厨1卫</td>\n",
       "      <td>中层(共6层)</td>\n",
       "      <td>暂无资料</td>\n",
       "      <td>住宅</td>\n",
       "      <td>平层</td>\n",
       "      <td>精装修</td>\n",
       "      <td>30.6</td>\n",
       "    </tr>\n",
       "    <tr>\n",
       "      <th>1</th>\n",
       "      <td>世纪大道站  福山外国语+建平西校 看房随时急卖</td>\n",
       "      <td>个人产权</td>\n",
       "      <td>普通住宅</td>\n",
       "      <td>塔楼</td>\n",
       "      <td>NaN</td>\n",
       "      <td>1989年</td>\n",
       "      <td>49.82</td>\n",
       "      <td>2室1厅0厨1卫</td>\n",
       "      <td>中层(共6层)</td>\n",
       "      <td>1元/平米・月</td>\n",
       "      <td>住宅</td>\n",
       "      <td>平层</td>\n",
       "      <td>简装修</td>\n",
       "      <td>418.0</td>\n",
       "    </tr>\n",
       "    <tr>\n",
       "      <th>2</th>\n",
       "      <td>大四房出售，带会所+高区景观+车位</td>\n",
       "      <td>个人产权</td>\n",
       "      <td>普通住宅</td>\n",
       "      <td>NaN</td>\n",
       "      <td>NaN</td>\n",
       "      <td>2005年</td>\n",
       "      <td>288.30</td>\n",
       "      <td>4室2厅0厨2卫</td>\n",
       "      <td>高层(共40层)</td>\n",
       "      <td>3.5元/平米・月</td>\n",
       "      <td>住宅</td>\n",
       "      <td>NaN</td>\n",
       "      <td>精装修</td>\n",
       "      <td>2650.0</td>\n",
       "    </tr>\n",
       "    <tr>\n",
       "      <th>3</th>\n",
       "      <td>精装二房全明户型户型好客厅主卧朝南带阳台看房方便</td>\n",
       "      <td>商品房</td>\n",
       "      <td>NaN</td>\n",
       "      <td>板楼</td>\n",
       "      <td>NaN</td>\n",
       "      <td>1994年</td>\n",
       "      <td>56.00</td>\n",
       "      <td>2室1厅1厨1卫</td>\n",
       "      <td>高层(共6层)</td>\n",
       "      <td>0.4元/平米・月</td>\n",
       "      <td>住宅</td>\n",
       "      <td>平层</td>\n",
       "      <td>简装修</td>\n",
       "      <td>280.0</td>\n",
       "    </tr>\n",
       "    <tr>\n",
       "      <th>4</th>\n",
       "      <td>满五税费少,房东接受置换客户,房东这边房子已经看好,急卖</td>\n",
       "      <td>个人产权</td>\n",
       "      <td>普通住宅</td>\n",
       "      <td>钢混</td>\n",
       "      <td>NaN</td>\n",
       "      <td>1998年</td>\n",
       "      <td>58.00</td>\n",
       "      <td>2室1厅1厨1卫</td>\n",
       "      <td>高层(共6层)</td>\n",
       "      <td>0.4元/平米・月</td>\n",
       "      <td>住宅</td>\n",
       "      <td>平层</td>\n",
       "      <td>精装修</td>\n",
       "      <td>190.0</td>\n",
       "    </tr>\n",
       "  </tbody>\n",
       "</table>\n",
       "</div>"
      ],
      "text/plain": [
       "                              標題  产权性质  住宅类别 建筑类别  参考月供     年代    建筑面积  \\\n",
       "0  急售70年产权房源 房东装修 户型正气 产证清晰 随时看房  个人产权  普通住宅   板楼   NaN  1989年   70.40   \n",
       "1       世纪大道站  福山外国语+建平西校 看房随时急卖  个人产权  普通住宅   塔楼   NaN  1989年   49.82   \n",
       "2              大四房出售，带会所+高区景观+车位  个人产权  普通住宅  NaN   NaN  2005年  288.30   \n",
       "3       精装二房全明户型户型好客厅主卧朝南带阳台看房方便   商品房   NaN   板楼   NaN  1994年   56.00   \n",
       "4   满五税费少,房东接受置换客户,房东这边房子已经看好,急卖  个人产权  普通住宅   钢混   NaN  1998年   58.00   \n",
       "\n",
       "         户型        楼层      物 业 费 物业类型   结构   装修      總價  \n",
       "0  2室2厅1厨1卫   中层(共6层)       暂无资料   住宅   平层  精装修    30.6  \n",
       "1  2室1厅0厨1卫   中层(共6层)    1元/平米・月   住宅   平层  简装修   418.0  \n",
       "2  4室2厅0厨2卫  高层(共40层)  3.5元/平米・月   住宅  NaN  精装修  2650.0  \n",
       "3  2室1厅1厨1卫   高层(共6层)  0.4元/平米・月   住宅   平层  简装修   280.0  \n",
       "4  2室1厅1厨1卫   高层(共6层)  0.4元/平米・月   住宅   平层  精装修   190.0  "
      ]
     },
     "execution_count": 3,
     "metadata": {},
     "output_type": "execute_result"
    }
   ],
   "source": [
    "del df['Unnamed: 0']\n",
    "df.head()"
   ]
  },
  {
   "cell_type": "code",
   "execution_count": 4,
   "metadata": {
    "pycharm": {
     "name": "#%%\n"
    }
   },
   "outputs": [],
   "source": [
    "df = pd.read_csv('house_data.csv', index_col = 0)"
   ]
  },
  {
   "cell_type": "code",
   "execution_count": 5,
   "metadata": {
    "pycharm": {
     "name": "#%%\n"
    }
   },
   "outputs": [
    {
     "data": {
      "text/plain": "                              標題  产权性质  住宅类别 建筑类别  参考月供     年代    建筑面积  \\\n0  急售70年产权房源 房东装修 户型正气 产证清晰 随时看房  个人产权  普通住宅   板楼   NaN  1989年   70.40   \n1       世纪大道站  福山外国语+建平西校 看房随时急卖  个人产权  普通住宅   塔楼   NaN  1989年   49.82   \n2              大四房出售，带会所+高区景观+车位  个人产权  普通住宅  NaN   NaN  2005年  288.30   \n3       精装二房全明户型户型好客厅主卧朝南带阳台看房方便   商品房   NaN   板楼   NaN  1994年   56.00   \n4   满五税费少,房东接受置换客户,房东这边房子已经看好,急卖  个人产权  普通住宅   钢混   NaN  1998年   58.00   \n\n         户型        楼层        物业费 物业类型   结构   装修      總價  \n0  2室2厅1厨1卫   中层(共6层)       暂无资料   住宅   平层  精装修    30.6  \n1  2室1厅0厨1卫   中层(共6层)    1元/平米・月   住宅   平层  简装修   418.0  \n2  4室2厅0厨2卫  高层(共40层)  3.5元/平米・月   住宅  NaN  精装修  2650.0  \n3  2室1厅1厨1卫   高层(共6层)  0.4元/平米・月   住宅   平层  简装修   280.0  \n4  2室1厅1厨1卫   高层(共6层)  0.4元/平米・月   住宅   平层  精装修   190.0  ",
      "text/html": "<div>\n<style scoped>\n    .dataframe tbody tr th:only-of-type {\n        vertical-align: middle;\n    }\n\n    .dataframe tbody tr th {\n        vertical-align: top;\n    }\n\n    .dataframe thead th {\n        text-align: right;\n    }\n</style>\n<table border=\"1\" class=\"dataframe\">\n  <thead>\n    <tr style=\"text-align: right;\">\n      <th></th>\n      <th>標題</th>\n      <th>产权性质</th>\n      <th>住宅类别</th>\n      <th>建筑类别</th>\n      <th>参考月供</th>\n      <th>年代</th>\n      <th>建筑面积</th>\n      <th>户型</th>\n      <th>楼层</th>\n      <th>物业费</th>\n      <th>物业类型</th>\n      <th>结构</th>\n      <th>装修</th>\n      <th>總價</th>\n    </tr>\n  </thead>\n  <tbody>\n    <tr>\n      <th>0</th>\n      <td>急售70年产权房源 房东装修 户型正气 产证清晰 随时看房</td>\n      <td>个人产权</td>\n      <td>普通住宅</td>\n      <td>板楼</td>\n      <td>NaN</td>\n      <td>1989年</td>\n      <td>70.40</td>\n      <td>2室2厅1厨1卫</td>\n      <td>中层(共6层)</td>\n      <td>暂无资料</td>\n      <td>住宅</td>\n      <td>平层</td>\n      <td>精装修</td>\n      <td>30.6</td>\n    </tr>\n    <tr>\n      <th>1</th>\n      <td>世纪大道站  福山外国语+建平西校 看房随时急卖</td>\n      <td>个人产权</td>\n      <td>普通住宅</td>\n      <td>塔楼</td>\n      <td>NaN</td>\n      <td>1989年</td>\n      <td>49.82</td>\n      <td>2室1厅0厨1卫</td>\n      <td>中层(共6层)</td>\n      <td>1元/平米・月</td>\n      <td>住宅</td>\n      <td>平层</td>\n      <td>简装修</td>\n      <td>418.0</td>\n    </tr>\n    <tr>\n      <th>2</th>\n      <td>大四房出售，带会所+高区景观+车位</td>\n      <td>个人产权</td>\n      <td>普通住宅</td>\n      <td>NaN</td>\n      <td>NaN</td>\n      <td>2005年</td>\n      <td>288.30</td>\n      <td>4室2厅0厨2卫</td>\n      <td>高层(共40层)</td>\n      <td>3.5元/平米・月</td>\n      <td>住宅</td>\n      <td>NaN</td>\n      <td>精装修</td>\n      <td>2650.0</td>\n    </tr>\n    <tr>\n      <th>3</th>\n      <td>精装二房全明户型户型好客厅主卧朝南带阳台看房方便</td>\n      <td>商品房</td>\n      <td>NaN</td>\n      <td>板楼</td>\n      <td>NaN</td>\n      <td>1994年</td>\n      <td>56.00</td>\n      <td>2室1厅1厨1卫</td>\n      <td>高层(共6层)</td>\n      <td>0.4元/平米・月</td>\n      <td>住宅</td>\n      <td>平层</td>\n      <td>简装修</td>\n      <td>280.0</td>\n    </tr>\n    <tr>\n      <th>4</th>\n      <td>满五税费少,房东接受置换客户,房东这边房子已经看好,急卖</td>\n      <td>个人产权</td>\n      <td>普通住宅</td>\n      <td>钢混</td>\n      <td>NaN</td>\n      <td>1998年</td>\n      <td>58.00</td>\n      <td>2室1厅1厨1卫</td>\n      <td>高层(共6层)</td>\n      <td>0.4元/平米・月</td>\n      <td>住宅</td>\n      <td>平层</td>\n      <td>精装修</td>\n      <td>190.0</td>\n    </tr>\n  </tbody>\n</table>\n</div>"
     },
     "execution_count": 5,
     "metadata": {},
     "output_type": "execute_result"
    }
   ],
   "source": [
    "df.head()"
   ]
  },
  {
   "cell_type": "code",
   "execution_count": 7,
   "metadata": {
    "pycharm": {
     "name": "#%%\n"
    }
   },
   "outputs": [
    {
     "data": {
      "text/html": [
       "<div>\n",
       "<style scoped>\n",
       "    .dataframe tbody tr th:only-of-type {\n",
       "        vertical-align: middle;\n",
       "    }\n",
       "\n",
       "    .dataframe tbody tr th {\n",
       "        vertical-align: top;\n",
       "    }\n",
       "\n",
       "    .dataframe thead th {\n",
       "        text-align: right;\n",
       "    }\n",
       "</style>\n",
       "<table border=\"1\" class=\"dataframe\">\n",
       "  <thead>\n",
       "    <tr style=\"text-align: right;\">\n",
       "      <th></th>\n",
       "      <th>標題</th>\n",
       "      <th>产权性质</th>\n",
       "      <th>住宅类别</th>\n",
       "      <th>建筑类别</th>\n",
       "      <th>参考月供</th>\n",
       "      <th>年代</th>\n",
       "      <th>建筑面积</th>\n",
       "      <th>户型</th>\n",
       "      <th>楼层</th>\n",
       "      <th>物 业 费</th>\n",
       "      <th>物业类型</th>\n",
       "      <th>结构</th>\n",
       "      <th>装修</th>\n",
       "      <th>總價</th>\n",
       "    </tr>\n",
       "  </thead>\n",
       "  <tbody>\n",
       "    <tr>\n",
       "      <th>0</th>\n",
       "      <td>急售70年产权房源 房东装修 户型正气 产证清晰 随时看房</td>\n",
       "      <td>个人产权</td>\n",
       "      <td>普通住宅</td>\n",
       "      <td>板楼</td>\n",
       "      <td>NaN</td>\n",
       "      <td>1989年</td>\n",
       "      <td>70.4</td>\n",
       "      <td>2室2厅1厨1卫</td>\n",
       "      <td>中层(共6层)</td>\n",
       "      <td>暂无资料</td>\n",
       "      <td>住宅</td>\n",
       "      <td>平层</td>\n",
       "      <td>精装修</td>\n",
       "      <td>30.6</td>\n",
       "    </tr>\n",
       "    <tr>\n",
       "      <th>7</th>\n",
       "      <td>纪联小区，，大一房一厅，精装修，，！诚售</td>\n",
       "      <td>个人产权</td>\n",
       "      <td>普通住宅</td>\n",
       "      <td>板楼</td>\n",
       "      <td>NaN</td>\n",
       "      <td>1996年</td>\n",
       "      <td>50.0</td>\n",
       "      <td>1室1厅1厨1卫</td>\n",
       "      <td>中层(共6层)</td>\n",
       "      <td>暂无资料</td>\n",
       "      <td>住宅</td>\n",
       "      <td>平层</td>\n",
       "      <td>精装修</td>\n",
       "      <td>230.0</td>\n",
       "    </tr>\n",
       "    <tr>\n",
       "      <th>27</th>\n",
       "      <td>投咨300亿山水六旗主题公园 金色海岸 海景房 得房率110</td>\n",
       "      <td>个人产权</td>\n",
       "      <td>普通住宅</td>\n",
       "      <td>NaN</td>\n",
       "      <td>NaN</td>\n",
       "      <td>2016年</td>\n",
       "      <td>84.0</td>\n",
       "      <td>2室2厅0厨1卫</td>\n",
       "      <td>中层(共15层)</td>\n",
       "      <td>暂无资料</td>\n",
       "      <td>住宅</td>\n",
       "      <td>NaN</td>\n",
       "      <td>毛坯</td>\n",
       "      <td>80.0</td>\n",
       "    </tr>\n",
       "    <tr>\n",
       "      <th>65</th>\n",
       "      <td>老客户转让，首付20万，可，1梯1户，专车接送看房</td>\n",
       "      <td>个人产权</td>\n",
       "      <td>普通住宅</td>\n",
       "      <td>NaN</td>\n",
       "      <td>NaN</td>\n",
       "      <td>2017年</td>\n",
       "      <td>82.0</td>\n",
       "      <td>3室2厅1厨2卫</td>\n",
       "      <td>低层(共17层)</td>\n",
       "      <td>暂无资料</td>\n",
       "      <td>住宅</td>\n",
       "      <td>平层</td>\n",
       "      <td>毛坯</td>\n",
       "      <td>69.0</td>\n",
       "    </tr>\n",
       "    <tr>\n",
       "      <th>70</th>\n",
       "      <td>南浔古镇，月亮湾花园，南北通透，双轨交汇，配套齐全，得房</td>\n",
       "      <td>个人产权</td>\n",
       "      <td>普通住宅</td>\n",
       "      <td>板楼</td>\n",
       "      <td>NaN</td>\n",
       "      <td>2017年</td>\n",
       "      <td>92.0</td>\n",
       "      <td>2室2厅1厨1卫</td>\n",
       "      <td>中层(共17层)</td>\n",
       "      <td>暂无资料</td>\n",
       "      <td>住宅</td>\n",
       "      <td>平层</td>\n",
       "      <td>简装修</td>\n",
       "      <td>80.0</td>\n",
       "    </tr>\n",
       "  </tbody>\n",
       "</table>\n",
       "</div>"
      ],
      "text/plain": [
       "                                標題  产权性质  住宅类别 建筑类别  参考月供     年代  建筑面积  \\\n",
       "0    急售70年产权房源 房东装修 户型正气 产证清晰 随时看房  个人产权  普通住宅   板楼   NaN  1989年  70.4   \n",
       "7             纪联小区，，大一房一厅，精装修，，！诚售  个人产权  普通住宅   板楼   NaN  1996年  50.0   \n",
       "27  投咨300亿山水六旗主题公园 金色海岸 海景房 得房率110  个人产权  普通住宅  NaN   NaN  2016年  84.0   \n",
       "65       老客户转让，首付20万，可，1梯1户，专车接送看房  个人产权  普通住宅  NaN   NaN  2017年  82.0   \n",
       "70    南浔古镇，月亮湾花园，南北通透，双轨交汇，配套齐全，得房  个人产权  普通住宅   板楼   NaN  2017年  92.0   \n",
       "\n",
       "          户型        楼层 物 业 费 物业类型   结构   装修     總價  \n",
       "0   2室2厅1厨1卫   中层(共6层)  暂无资料   住宅   平层  精装修   30.6  \n",
       "7   1室1厅1厨1卫   中层(共6层)  暂无资料   住宅   平层  精装修  230.0  \n",
       "27  2室2厅0厨1卫  中层(共15层)  暂无资料   住宅  NaN   毛坯   80.0  \n",
       "65  3室2厅1厨2卫  低层(共17层)  暂无资料   住宅   平层   毛坯   69.0  \n",
       "70  2室2厅1厨1卫  中层(共17层)  暂无资料   住宅   平层  简装修   80.0  "
      ]
     },
     "execution_count": 7,
     "metadata": {},
     "output_type": "execute_result"
    }
   ],
   "source": [
    "df['物 业 费'] == '暂无资料'\n",
    "df[df['物 业 费'] == '暂无资料'].head()"
   ]
  },
  {
   "cell_type": "code",
   "execution_count": 9,
   "metadata": {
    "pycharm": {
     "name": "#%%\n"
    }
   },
   "outputs": [],
   "source": [
    "import numpy as np"
   ]
  },
  {
   "cell_type": "code",
   "execution_count": 10,
   "metadata": {
    "pycharm": {
     "name": "#%%\n"
    }
   },
   "outputs": [
    {
     "data": {
      "text/html": [
       "<div>\n",
       "<style scoped>\n",
       "    .dataframe tbody tr th:only-of-type {\n",
       "        vertical-align: middle;\n",
       "    }\n",
       "\n",
       "    .dataframe tbody tr th {\n",
       "        vertical-align: top;\n",
       "    }\n",
       "\n",
       "    .dataframe thead th {\n",
       "        text-align: right;\n",
       "    }\n",
       "</style>\n",
       "<table border=\"1\" class=\"dataframe\">\n",
       "  <thead>\n",
       "    <tr style=\"text-align: right;\">\n",
       "      <th></th>\n",
       "      <th>標題</th>\n",
       "      <th>产权性质</th>\n",
       "      <th>住宅类别</th>\n",
       "      <th>建筑类别</th>\n",
       "      <th>参考月供</th>\n",
       "      <th>年代</th>\n",
       "      <th>建筑面积</th>\n",
       "      <th>户型</th>\n",
       "      <th>楼层</th>\n",
       "      <th>物 业 费</th>\n",
       "      <th>物业类型</th>\n",
       "      <th>结构</th>\n",
       "      <th>装修</th>\n",
       "      <th>總價</th>\n",
       "    </tr>\n",
       "  </thead>\n",
       "  <tbody>\n",
       "    <tr>\n",
       "      <th>0</th>\n",
       "      <td>急售70年产权房源 房东装修 户型正气 产证清晰 随时看房</td>\n",
       "      <td>个人产权</td>\n",
       "      <td>普通住宅</td>\n",
       "      <td>板楼</td>\n",
       "      <td>NaN</td>\n",
       "      <td>1989年</td>\n",
       "      <td>70.40</td>\n",
       "      <td>2室2厅1厨1卫</td>\n",
       "      <td>中层(共6层)</td>\n",
       "      <td>NaN</td>\n",
       "      <td>住宅</td>\n",
       "      <td>平层</td>\n",
       "      <td>精装修</td>\n",
       "      <td>30.6</td>\n",
       "    </tr>\n",
       "    <tr>\n",
       "      <th>1</th>\n",
       "      <td>世纪大道站  福山外国语+建平西校 看房随时急卖</td>\n",
       "      <td>个人产权</td>\n",
       "      <td>普通住宅</td>\n",
       "      <td>塔楼</td>\n",
       "      <td>NaN</td>\n",
       "      <td>1989年</td>\n",
       "      <td>49.82</td>\n",
       "      <td>2室1厅0厨1卫</td>\n",
       "      <td>中层(共6层)</td>\n",
       "      <td>1元/平米・月</td>\n",
       "      <td>住宅</td>\n",
       "      <td>平层</td>\n",
       "      <td>简装修</td>\n",
       "      <td>418.0</td>\n",
       "    </tr>\n",
       "    <tr>\n",
       "      <th>2</th>\n",
       "      <td>大四房出售，带会所+高区景观+车位</td>\n",
       "      <td>个人产权</td>\n",
       "      <td>普通住宅</td>\n",
       "      <td>NaN</td>\n",
       "      <td>NaN</td>\n",
       "      <td>2005年</td>\n",
       "      <td>288.30</td>\n",
       "      <td>4室2厅0厨2卫</td>\n",
       "      <td>高层(共40层)</td>\n",
       "      <td>3.5元/平米・月</td>\n",
       "      <td>住宅</td>\n",
       "      <td>NaN</td>\n",
       "      <td>精装修</td>\n",
       "      <td>2650.0</td>\n",
       "    </tr>\n",
       "    <tr>\n",
       "      <th>3</th>\n",
       "      <td>精装二房全明户型户型好客厅主卧朝南带阳台看房方便</td>\n",
       "      <td>商品房</td>\n",
       "      <td>NaN</td>\n",
       "      <td>板楼</td>\n",
       "      <td>NaN</td>\n",
       "      <td>1994年</td>\n",
       "      <td>56.00</td>\n",
       "      <td>2室1厅1厨1卫</td>\n",
       "      <td>高层(共6层)</td>\n",
       "      <td>0.4元/平米・月</td>\n",
       "      <td>住宅</td>\n",
       "      <td>平层</td>\n",
       "      <td>简装修</td>\n",
       "      <td>280.0</td>\n",
       "    </tr>\n",
       "    <tr>\n",
       "      <th>4</th>\n",
       "      <td>满五税费少,房东接受置换客户,房东这边房子已经看好,急卖</td>\n",
       "      <td>个人产权</td>\n",
       "      <td>普通住宅</td>\n",
       "      <td>钢混</td>\n",
       "      <td>NaN</td>\n",
       "      <td>1998年</td>\n",
       "      <td>58.00</td>\n",
       "      <td>2室1厅1厨1卫</td>\n",
       "      <td>高层(共6层)</td>\n",
       "      <td>0.4元/平米・月</td>\n",
       "      <td>住宅</td>\n",
       "      <td>平层</td>\n",
       "      <td>精装修</td>\n",
       "      <td>190.0</td>\n",
       "    </tr>\n",
       "  </tbody>\n",
       "</table>\n",
       "</div>"
      ],
      "text/plain": [
       "                              標題  产权性质  住宅类别 建筑类别  参考月供     年代    建筑面积  \\\n",
       "0  急售70年产权房源 房东装修 户型正气 产证清晰 随时看房  个人产权  普通住宅   板楼   NaN  1989年   70.40   \n",
       "1       世纪大道站  福山外国语+建平西校 看房随时急卖  个人产权  普通住宅   塔楼   NaN  1989年   49.82   \n",
       "2              大四房出售，带会所+高区景观+车位  个人产权  普通住宅  NaN   NaN  2005年  288.30   \n",
       "3       精装二房全明户型户型好客厅主卧朝南带阳台看房方便   商品房   NaN   板楼   NaN  1994年   56.00   \n",
       "4   满五税费少,房东接受置换客户,房东这边房子已经看好,急卖  个人产权  普通住宅   钢混   NaN  1998年   58.00   \n",
       "\n",
       "         户型        楼层      物 业 费 物业类型   结构   装修      總價  \n",
       "0  2室2厅1厨1卫   中层(共6层)        NaN   住宅   平层  精装修    30.6  \n",
       "1  2室1厅0厨1卫   中层(共6层)    1元/平米・月   住宅   平层  简装修   418.0  \n",
       "2  4室2厅0厨2卫  高层(共40层)  3.5元/平米・月   住宅  NaN  精装修  2650.0  \n",
       "3  2室1厅1厨1卫   高层(共6层)  0.4元/平米・月   住宅   平层  简装修   280.0  \n",
       "4  2室1厅1厨1卫   高层(共6层)  0.4元/平米・月   住宅   平层  精装修   190.0  "
      ]
     },
     "execution_count": 10,
     "metadata": {},
     "output_type": "execute_result"
    }
   ],
   "source": [
    "df.loc[df['物 业 费'] == '暂无资料', '物 业 费'] = np.nan\n",
    "df.head()"
   ]
  },
  {
   "cell_type": "code",
   "execution_count": 4,
   "metadata": {
    "pycharm": {
     "name": "#%%\n"
    }
   },
   "outputs": [
    {
     "data": {
      "text/plain": "                              標題  产权性质  住宅类别 建筑类别  参考月供     年代    建筑面积  \\\n0  急售70年产权房源 房东装修 户型正气 产证清晰 随时看房  个人产权  普通住宅   板楼   NaN  1989年   70.40   \n1       世纪大道站  福山外国语+建平西校 看房随时急卖  个人产权  普通住宅   塔楼   NaN  1989年   49.82   \n2              大四房出售，带会所+高区景观+车位  个人产权  普通住宅  NaN   NaN  2005年  288.30   \n3       精装二房全明户型户型好客厅主卧朝南带阳台看房方便   商品房   NaN   板楼   NaN  1994年   56.00   \n4   满五税费少,房东接受置换客户,房东这边房子已经看好,急卖  个人产权  普通住宅   钢混   NaN  1998年   58.00   \n\n         户型        楼层        物业费 物业类型   结构   装修      總價  \n0  2室2厅1厨1卫   中层(共6层)        NaN   住宅   平层  精装修    30.6  \n1  2室1厅0厨1卫   中层(共6层)    1元/平米・月   住宅   平层  简装修   418.0  \n2  4室2厅0厨2卫  高层(共40层)  3.5元/平米・月   住宅  NaN  精装修  2650.0  \n3  2室1厅1厨1卫   高层(共6层)  0.4元/平米・月   住宅   平层  简装修   280.0  \n4  2室1厅1厨1卫   高层(共6层)  0.4元/平米・月   住宅   平层  精装修   190.0  ",
      "text/html": "<div>\n<style scoped>\n    .dataframe tbody tr th:only-of-type {\n        vertical-align: middle;\n    }\n\n    .dataframe tbody tr th {\n        vertical-align: top;\n    }\n\n    .dataframe thead th {\n        text-align: right;\n    }\n</style>\n<table border=\"1\" class=\"dataframe\">\n  <thead>\n    <tr style=\"text-align: right;\">\n      <th></th>\n      <th>標題</th>\n      <th>产权性质</th>\n      <th>住宅类别</th>\n      <th>建筑类别</th>\n      <th>参考月供</th>\n      <th>年代</th>\n      <th>建筑面积</th>\n      <th>户型</th>\n      <th>楼层</th>\n      <th>物业费</th>\n      <th>物业类型</th>\n      <th>结构</th>\n      <th>装修</th>\n      <th>總價</th>\n    </tr>\n  </thead>\n  <tbody>\n    <tr>\n      <th>0</th>\n      <td>急售70年产权房源 房东装修 户型正气 产证清晰 随时看房</td>\n      <td>个人产权</td>\n      <td>普通住宅</td>\n      <td>板楼</td>\n      <td>NaN</td>\n      <td>1989年</td>\n      <td>70.40</td>\n      <td>2室2厅1厨1卫</td>\n      <td>中层(共6层)</td>\n      <td>NaN</td>\n      <td>住宅</td>\n      <td>平层</td>\n      <td>精装修</td>\n      <td>30.6</td>\n    </tr>\n    <tr>\n      <th>1</th>\n      <td>世纪大道站  福山外国语+建平西校 看房随时急卖</td>\n      <td>个人产权</td>\n      <td>普通住宅</td>\n      <td>塔楼</td>\n      <td>NaN</td>\n      <td>1989年</td>\n      <td>49.82</td>\n      <td>2室1厅0厨1卫</td>\n      <td>中层(共6层)</td>\n      <td>1元/平米・月</td>\n      <td>住宅</td>\n      <td>平层</td>\n      <td>简装修</td>\n      <td>418.0</td>\n    </tr>\n    <tr>\n      <th>2</th>\n      <td>大四房出售，带会所+高区景观+车位</td>\n      <td>个人产权</td>\n      <td>普通住宅</td>\n      <td>NaN</td>\n      <td>NaN</td>\n      <td>2005年</td>\n      <td>288.30</td>\n      <td>4室2厅0厨2卫</td>\n      <td>高层(共40层)</td>\n      <td>3.5元/平米・月</td>\n      <td>住宅</td>\n      <td>NaN</td>\n      <td>精装修</td>\n      <td>2650.0</td>\n    </tr>\n    <tr>\n      <th>3</th>\n      <td>精装二房全明户型户型好客厅主卧朝南带阳台看房方便</td>\n      <td>商品房</td>\n      <td>NaN</td>\n      <td>板楼</td>\n      <td>NaN</td>\n      <td>1994年</td>\n      <td>56.00</td>\n      <td>2室1厅1厨1卫</td>\n      <td>高层(共6层)</td>\n      <td>0.4元/平米・月</td>\n      <td>住宅</td>\n      <td>平层</td>\n      <td>简装修</td>\n      <td>280.0</td>\n    </tr>\n    <tr>\n      <th>4</th>\n      <td>满五税费少,房东接受置换客户,房东这边房子已经看好,急卖</td>\n      <td>个人产权</td>\n      <td>普通住宅</td>\n      <td>钢混</td>\n      <td>NaN</td>\n      <td>1998年</td>\n      <td>58.00</td>\n      <td>2室1厅1厨1卫</td>\n      <td>高层(共6层)</td>\n      <td>0.4元/平米・月</td>\n      <td>住宅</td>\n      <td>平层</td>\n      <td>精装修</td>\n      <td>190.0</td>\n    </tr>\n  </tbody>\n</table>\n</div>"
     },
     "execution_count": 4,
     "metadata": {},
     "output_type": "execute_result"
    }
   ],
   "source": [
    "df = pd.read_csv('house_data.csv', na_values='暂无资料', index_col=0)\n",
    "df.head()"
   ]
  },
  {
   "cell_type": "code",
   "execution_count": 5,
   "metadata": {
    "pycharm": {
     "name": "#%%\n"
    }
   },
   "outputs": [
    {
     "data": {
      "text/plain": "       参考月供        建筑面积            總價\ncount   0.0  240.000000    237.000000\nmean    NaN  113.435333    646.092869\nstd     NaN   99.199836   1300.349319\nmin     NaN   22.500000     30.600000\n25%     NaN   68.952500    220.000000\n50%     NaN   88.155000    400.000000\n75%     NaN  123.250000    578.000000\nmax     NaN  731.240000  11000.000000",
      "text/html": "<div>\n<style scoped>\n    .dataframe tbody tr th:only-of-type {\n        vertical-align: middle;\n    }\n\n    .dataframe tbody tr th {\n        vertical-align: top;\n    }\n\n    .dataframe thead th {\n        text-align: right;\n    }\n</style>\n<table border=\"1\" class=\"dataframe\">\n  <thead>\n    <tr style=\"text-align: right;\">\n      <th></th>\n      <th>参考月供</th>\n      <th>建筑面积</th>\n      <th>總價</th>\n    </tr>\n  </thead>\n  <tbody>\n    <tr>\n      <th>count</th>\n      <td>0.0</td>\n      <td>240.000000</td>\n      <td>237.000000</td>\n    </tr>\n    <tr>\n      <th>mean</th>\n      <td>NaN</td>\n      <td>113.435333</td>\n      <td>646.092869</td>\n    </tr>\n    <tr>\n      <th>std</th>\n      <td>NaN</td>\n      <td>99.199836</td>\n      <td>1300.349319</td>\n    </tr>\n    <tr>\n      <th>min</th>\n      <td>NaN</td>\n      <td>22.500000</td>\n      <td>30.600000</td>\n    </tr>\n    <tr>\n      <th>25%</th>\n      <td>NaN</td>\n      <td>68.952500</td>\n      <td>220.000000</td>\n    </tr>\n    <tr>\n      <th>50%</th>\n      <td>NaN</td>\n      <td>88.155000</td>\n      <td>400.000000</td>\n    </tr>\n    <tr>\n      <th>75%</th>\n      <td>NaN</td>\n      <td>123.250000</td>\n      <td>578.000000</td>\n    </tr>\n    <tr>\n      <th>max</th>\n      <td>NaN</td>\n      <td>731.240000</td>\n      <td>11000.000000</td>\n    </tr>\n  </tbody>\n</table>\n</div>"
     },
     "execution_count": 5,
     "metadata": {},
     "output_type": "execute_result"
    }
   ],
   "source": [
    "df.columns\n",
    "df.dtypes\n",
    "df.describe()"
   ]
  },
  {
   "cell_type": "code",
   "execution_count": 6,
   "metadata": {
    "pycharm": {
     "name": "#%%\n"
    }
   },
   "outputs": [
    {
     "data": {
      "text/plain": "標題      0.000000\n产权性质    0.052632\n住宅类别    0.100917\n建筑类别    0.276596\n参考月供         inf\n年代      0.071429\n建筑面积    0.000000\n户型      0.000000\n楼层      0.052632\n物业费     0.116279\n物业类型    0.000000\n结构      0.325967\n装修      0.052632\n總價      0.012658\ndtype: float64"
     },
     "execution_count": 6,
     "metadata": {},
     "output_type": "execute_result"
    }
   ],
   "source": [
    "df.isnull()\n",
    "df.isnull().any()\n",
    "df.isnull().sum()\n",
    "df['产权性质'].isnull().sum()\n",
    "\n",
    "df.isnull().sum() / df.count()"
   ]
  },
  {
   "cell_type": "code",
   "execution_count": 21,
   "metadata": {
    "pycharm": {
     "name": "#%%\n"
    }
   },
   "outputs": [
    {
     "ename": "KeyError",
     "evalue": "\"['参考月供'] not found in axis\"",
     "output_type": "error",
     "traceback": [
      "\u001B[1;31m---------------------------------------------------------------------------\u001B[0m",
      "\u001B[1;31mKeyError\u001B[0m                                  Traceback (most recent call last)",
      "\u001B[1;32m<ipython-input-21-705c47a818c9>\u001B[0m in \u001B[0;36m<module>\u001B[1;34m()\u001B[0m\n\u001B[1;32m----> 1\u001B[1;33m \u001B[0mdf\u001B[0m \u001B[1;33m=\u001B[0m \u001B[0mdf\u001B[0m\u001B[1;33m.\u001B[0m\u001B[0mdrop\u001B[0m\u001B[1;33m(\u001B[0m\u001B[1;34m'参考月供'\u001B[0m\u001B[1;33m,\u001B[0m \u001B[0maxis\u001B[0m\u001B[1;33m=\u001B[0m\u001B[1;36m1\u001B[0m\u001B[1;33m)\u001B[0m\u001B[1;33m\u001B[0m\u001B[0m\n\u001B[0m\u001B[0;32m      2\u001B[0m \u001B[0mdf\u001B[0m\u001B[1;33m.\u001B[0m\u001B[0mhead\u001B[0m\u001B[1;33m(\u001B[0m\u001B[1;33m)\u001B[0m\u001B[1;33m\u001B[0m\u001B[0m\n",
      "\u001B[1;32mD:\\Software\\anaconda\\lib\\site-packages\\pandas\\core\\frame.py\u001B[0m in \u001B[0;36mdrop\u001B[1;34m(self, labels, axis, index, columns, level, inplace, errors)\u001B[0m\n\u001B[0;32m   3695\u001B[0m                                            \u001B[0mindex\u001B[0m\u001B[1;33m=\u001B[0m\u001B[0mindex\u001B[0m\u001B[1;33m,\u001B[0m \u001B[0mcolumns\u001B[0m\u001B[1;33m=\u001B[0m\u001B[0mcolumns\u001B[0m\u001B[1;33m,\u001B[0m\u001B[1;33m\u001B[0m\u001B[0m\n\u001B[0;32m   3696\u001B[0m                                            \u001B[0mlevel\u001B[0m\u001B[1;33m=\u001B[0m\u001B[0mlevel\u001B[0m\u001B[1;33m,\u001B[0m \u001B[0minplace\u001B[0m\u001B[1;33m=\u001B[0m\u001B[0minplace\u001B[0m\u001B[1;33m,\u001B[0m\u001B[1;33m\u001B[0m\u001B[0m\n\u001B[1;32m-> 3697\u001B[1;33m                                            errors=errors)\n\u001B[0m\u001B[0;32m   3698\u001B[0m \u001B[1;33m\u001B[0m\u001B[0m\n\u001B[0;32m   3699\u001B[0m     @rewrite_axis_style_signature('mapper', [('copy', True),\n",
      "\u001B[1;32mD:\\Software\\anaconda\\lib\\site-packages\\pandas\\core\\generic.py\u001B[0m in \u001B[0;36mdrop\u001B[1;34m(self, labels, axis, index, columns, level, inplace, errors)\u001B[0m\n\u001B[0;32m   3109\u001B[0m         \u001B[1;32mfor\u001B[0m \u001B[0maxis\u001B[0m\u001B[1;33m,\u001B[0m \u001B[0mlabels\u001B[0m \u001B[1;32min\u001B[0m \u001B[0maxes\u001B[0m\u001B[1;33m.\u001B[0m\u001B[0mitems\u001B[0m\u001B[1;33m(\u001B[0m\u001B[1;33m)\u001B[0m\u001B[1;33m:\u001B[0m\u001B[1;33m\u001B[0m\u001B[0m\n\u001B[0;32m   3110\u001B[0m             \u001B[1;32mif\u001B[0m \u001B[0mlabels\u001B[0m \u001B[1;32mis\u001B[0m \u001B[1;32mnot\u001B[0m \u001B[1;32mNone\u001B[0m\u001B[1;33m:\u001B[0m\u001B[1;33m\u001B[0m\u001B[0m\n\u001B[1;32m-> 3111\u001B[1;33m                 \u001B[0mobj\u001B[0m \u001B[1;33m=\u001B[0m \u001B[0mobj\u001B[0m\u001B[1;33m.\u001B[0m\u001B[0m_drop_axis\u001B[0m\u001B[1;33m(\u001B[0m\u001B[0mlabels\u001B[0m\u001B[1;33m,\u001B[0m \u001B[0maxis\u001B[0m\u001B[1;33m,\u001B[0m \u001B[0mlevel\u001B[0m\u001B[1;33m=\u001B[0m\u001B[0mlevel\u001B[0m\u001B[1;33m,\u001B[0m \u001B[0merrors\u001B[0m\u001B[1;33m=\u001B[0m\u001B[0merrors\u001B[0m\u001B[1;33m)\u001B[0m\u001B[1;33m\u001B[0m\u001B[0m\n\u001B[0m\u001B[0;32m   3112\u001B[0m \u001B[1;33m\u001B[0m\u001B[0m\n\u001B[0;32m   3113\u001B[0m         \u001B[1;32mif\u001B[0m \u001B[0minplace\u001B[0m\u001B[1;33m:\u001B[0m\u001B[1;33m\u001B[0m\u001B[0m\n",
      "\u001B[1;32mD:\\Software\\anaconda\\lib\\site-packages\\pandas\\core\\generic.py\u001B[0m in \u001B[0;36m_drop_axis\u001B[1;34m(self, labels, axis, level, errors)\u001B[0m\n\u001B[0;32m   3141\u001B[0m                 \u001B[0mnew_axis\u001B[0m \u001B[1;33m=\u001B[0m \u001B[0maxis\u001B[0m\u001B[1;33m.\u001B[0m\u001B[0mdrop\u001B[0m\u001B[1;33m(\u001B[0m\u001B[0mlabels\u001B[0m\u001B[1;33m,\u001B[0m \u001B[0mlevel\u001B[0m\u001B[1;33m=\u001B[0m\u001B[0mlevel\u001B[0m\u001B[1;33m,\u001B[0m \u001B[0merrors\u001B[0m\u001B[1;33m=\u001B[0m\u001B[0merrors\u001B[0m\u001B[1;33m)\u001B[0m\u001B[1;33m\u001B[0m\u001B[0m\n\u001B[0;32m   3142\u001B[0m             \u001B[1;32melse\u001B[0m\u001B[1;33m:\u001B[0m\u001B[1;33m\u001B[0m\u001B[0m\n\u001B[1;32m-> 3143\u001B[1;33m                 \u001B[0mnew_axis\u001B[0m \u001B[1;33m=\u001B[0m \u001B[0maxis\u001B[0m\u001B[1;33m.\u001B[0m\u001B[0mdrop\u001B[0m\u001B[1;33m(\u001B[0m\u001B[0mlabels\u001B[0m\u001B[1;33m,\u001B[0m \u001B[0merrors\u001B[0m\u001B[1;33m=\u001B[0m\u001B[0merrors\u001B[0m\u001B[1;33m)\u001B[0m\u001B[1;33m\u001B[0m\u001B[0m\n\u001B[0m\u001B[0;32m   3144\u001B[0m             \u001B[0mresult\u001B[0m \u001B[1;33m=\u001B[0m \u001B[0mself\u001B[0m\u001B[1;33m.\u001B[0m\u001B[0mreindex\u001B[0m\u001B[1;33m(\u001B[0m\u001B[1;33m**\u001B[0m\u001B[1;33m{\u001B[0m\u001B[0maxis_name\u001B[0m\u001B[1;33m:\u001B[0m \u001B[0mnew_axis\u001B[0m\u001B[1;33m}\u001B[0m\u001B[1;33m)\u001B[0m\u001B[1;33m\u001B[0m\u001B[0m\n\u001B[0;32m   3145\u001B[0m \u001B[1;33m\u001B[0m\u001B[0m\n",
      "\u001B[1;32mD:\\Software\\anaconda\\lib\\site-packages\\pandas\\core\\indexes\\base.py\u001B[0m in \u001B[0;36mdrop\u001B[1;34m(self, labels, errors)\u001B[0m\n\u001B[0;32m   4402\u001B[0m             \u001B[1;32mif\u001B[0m \u001B[0merrors\u001B[0m \u001B[1;33m!=\u001B[0m \u001B[1;34m'ignore'\u001B[0m\u001B[1;33m:\u001B[0m\u001B[1;33m\u001B[0m\u001B[0m\n\u001B[0;32m   4403\u001B[0m                 raise KeyError(\n\u001B[1;32m-> 4404\u001B[1;33m                     '{} not found in axis'.format(labels[mask]))\n\u001B[0m\u001B[0;32m   4405\u001B[0m             \u001B[0mindexer\u001B[0m \u001B[1;33m=\u001B[0m \u001B[0mindexer\u001B[0m\u001B[1;33m[\u001B[0m\u001B[1;33m~\u001B[0m\u001B[0mmask\u001B[0m\u001B[1;33m]\u001B[0m\u001B[1;33m\u001B[0m\u001B[0m\n\u001B[0;32m   4406\u001B[0m         \u001B[1;32mreturn\u001B[0m \u001B[0mself\u001B[0m\u001B[1;33m.\u001B[0m\u001B[0mdelete\u001B[0m\u001B[1;33m(\u001B[0m\u001B[0mindexer\u001B[0m\u001B[1;33m)\u001B[0m\u001B[1;33m\u001B[0m\u001B[0m\n",
      "\u001B[1;31mKeyError\u001B[0m: \"['参考月供'] not found in axis\""
     ]
    }
   ],
   "source": [
    "df = df.drop('参考月供', axis=1)"
   ]
  },
  {
   "cell_type": "code",
   "execution_count": 22,
   "metadata": {
    "pycharm": {
     "name": "#%%\n"
    }
   },
   "outputs": [
    {
     "data": {
      "text/html": [
       "<div>\n",
       "<style scoped>\n",
       "    .dataframe tbody tr th:only-of-type {\n",
       "        vertical-align: middle;\n",
       "    }\n",
       "\n",
       "    .dataframe tbody tr th {\n",
       "        vertical-align: top;\n",
       "    }\n",
       "\n",
       "    .dataframe thead th {\n",
       "        text-align: right;\n",
       "    }\n",
       "</style>\n",
       "<table border=\"1\" class=\"dataframe\">\n",
       "  <thead>\n",
       "    <tr style=\"text-align: right;\">\n",
       "      <th></th>\n",
       "      <th>標題</th>\n",
       "      <th>产权性质</th>\n",
       "      <th>住宅类别</th>\n",
       "      <th>建筑类别</th>\n",
       "      <th>年代</th>\n",
       "      <th>建筑面积</th>\n",
       "      <th>户型</th>\n",
       "      <th>楼层</th>\n",
       "      <th>物 业 费</th>\n",
       "      <th>物业类型</th>\n",
       "      <th>结构</th>\n",
       "      <th>装修</th>\n",
       "      <th>總價</th>\n",
       "    </tr>\n",
       "  </thead>\n",
       "  <tbody>\n",
       "    <tr>\n",
       "      <th>0</th>\n",
       "      <td>急售70年产权房源 房东装修 户型正气 产证清晰 随时看房</td>\n",
       "      <td>个人产权</td>\n",
       "      <td>普通住宅</td>\n",
       "      <td>板楼</td>\n",
       "      <td>1989年</td>\n",
       "      <td>70.40</td>\n",
       "      <td>2室2厅1厨1卫</td>\n",
       "      <td>中层(共6层)</td>\n",
       "      <td>NaN</td>\n",
       "      <td>住宅</td>\n",
       "      <td>平层</td>\n",
       "      <td>精装修</td>\n",
       "      <td>30.6</td>\n",
       "    </tr>\n",
       "    <tr>\n",
       "      <th>1</th>\n",
       "      <td>世纪大道站  福山外国语+建平西校 看房随时急卖</td>\n",
       "      <td>个人产权</td>\n",
       "      <td>普通住宅</td>\n",
       "      <td>塔楼</td>\n",
       "      <td>1989年</td>\n",
       "      <td>49.82</td>\n",
       "      <td>2室1厅0厨1卫</td>\n",
       "      <td>中层(共6层)</td>\n",
       "      <td>1元/平米・月</td>\n",
       "      <td>住宅</td>\n",
       "      <td>平层</td>\n",
       "      <td>简装修</td>\n",
       "      <td>418.0</td>\n",
       "    </tr>\n",
       "    <tr>\n",
       "      <th>2</th>\n",
       "      <td>大四房出售，带会所+高区景观+车位</td>\n",
       "      <td>个人产权</td>\n",
       "      <td>普通住宅</td>\n",
       "      <td>NaN</td>\n",
       "      <td>2005年</td>\n",
       "      <td>288.30</td>\n",
       "      <td>4室2厅0厨2卫</td>\n",
       "      <td>高层(共40层)</td>\n",
       "      <td>3.5元/平米・月</td>\n",
       "      <td>住宅</td>\n",
       "      <td>NaN</td>\n",
       "      <td>精装修</td>\n",
       "      <td>2650.0</td>\n",
       "    </tr>\n",
       "    <tr>\n",
       "      <th>3</th>\n",
       "      <td>精装二房全明户型户型好客厅主卧朝南带阳台看房方便</td>\n",
       "      <td>商品房</td>\n",
       "      <td>NaN</td>\n",
       "      <td>板楼</td>\n",
       "      <td>1994年</td>\n",
       "      <td>56.00</td>\n",
       "      <td>2室1厅1厨1卫</td>\n",
       "      <td>高层(共6层)</td>\n",
       "      <td>0.4元/平米・月</td>\n",
       "      <td>住宅</td>\n",
       "      <td>平层</td>\n",
       "      <td>简装修</td>\n",
       "      <td>280.0</td>\n",
       "    </tr>\n",
       "    <tr>\n",
       "      <th>4</th>\n",
       "      <td>满五税费少,房东接受置换客户,房东这边房子已经看好,急卖</td>\n",
       "      <td>个人产权</td>\n",
       "      <td>普通住宅</td>\n",
       "      <td>钢混</td>\n",
       "      <td>1998年</td>\n",
       "      <td>58.00</td>\n",
       "      <td>2室1厅1厨1卫</td>\n",
       "      <td>高层(共6层)</td>\n",
       "      <td>0.4元/平米・月</td>\n",
       "      <td>住宅</td>\n",
       "      <td>平层</td>\n",
       "      <td>精装修</td>\n",
       "      <td>190.0</td>\n",
       "    </tr>\n",
       "  </tbody>\n",
       "</table>\n",
       "</div>"
      ],
      "text/plain": [
       "                              標題  产权性质  住宅类别 建筑类别     年代    建筑面积        户型  \\\n",
       "0  急售70年产权房源 房东装修 户型正气 产证清晰 随时看房  个人产权  普通住宅   板楼  1989年   70.40  2室2厅1厨1卫   \n",
       "1       世纪大道站  福山外国语+建平西校 看房随时急卖  个人产权  普通住宅   塔楼  1989年   49.82  2室1厅0厨1卫   \n",
       "2              大四房出售，带会所+高区景观+车位  个人产权  普通住宅  NaN  2005年  288.30  4室2厅0厨2卫   \n",
       "3       精装二房全明户型户型好客厅主卧朝南带阳台看房方便   商品房   NaN   板楼  1994年   56.00  2室1厅1厨1卫   \n",
       "4   满五税费少,房东接受置换客户,房东这边房子已经看好,急卖  个人产权  普通住宅   钢混  1998年   58.00  2室1厅1厨1卫   \n",
       "\n",
       "         楼层      物 业 费 物业类型   结构   装修      總價  \n",
       "0   中层(共6层)        NaN   住宅   平层  精装修    30.6  \n",
       "1   中层(共6层)    1元/平米・月   住宅   平层  简装修   418.0  \n",
       "2  高层(共40层)  3.5元/平米・月   住宅  NaN  精装修  2650.0  \n",
       "3   高层(共6层)  0.4元/平米・月   住宅   平层  简装修   280.0  \n",
       "4   高层(共6层)  0.4元/平米・月   住宅   平层  精装修   190.0  "
      ]
     },
     "execution_count": 22,
     "metadata": {},
     "output_type": "execute_result"
    }
   ],
   "source": [
    "df.head()"
   ]
  },
  {
   "cell_type": "code",
   "execution_count": 27,
   "metadata": {
    "pycharm": {
     "name": "#%%\n"
    }
   },
   "outputs": [
    {
     "data": {
      "text/html": [
       "<div>\n",
       "<style scoped>\n",
       "    .dataframe tbody tr th:only-of-type {\n",
       "        vertical-align: middle;\n",
       "    }\n",
       "\n",
       "    .dataframe tbody tr th {\n",
       "        vertical-align: top;\n",
       "    }\n",
       "\n",
       "    .dataframe thead th {\n",
       "        text-align: right;\n",
       "    }\n",
       "</style>\n",
       "<table border=\"1\" class=\"dataframe\">\n",
       "  <thead>\n",
       "    <tr style=\"text-align: right;\">\n",
       "      <th></th>\n",
       "      <th>標題</th>\n",
       "      <th>产权性质</th>\n",
       "      <th>住宅类别</th>\n",
       "      <th>建筑类别</th>\n",
       "      <th>年代</th>\n",
       "      <th>建筑面积</th>\n",
       "      <th>户型</th>\n",
       "      <th>楼层</th>\n",
       "      <th>物 业 费</th>\n",
       "      <th>物业类型</th>\n",
       "      <th>结构</th>\n",
       "      <th>装修</th>\n",
       "      <th>總價</th>\n",
       "    </tr>\n",
       "  </thead>\n",
       "  <tbody>\n",
       "    <tr>\n",
       "      <th>0</th>\n",
       "      <td>急售70年产权房源 房东装修 户型正气 产证清晰 随时看房</td>\n",
       "      <td>个人产权</td>\n",
       "      <td>普通住宅</td>\n",
       "      <td>板楼</td>\n",
       "      <td>1989年</td>\n",
       "      <td>70.40</td>\n",
       "      <td>2室2厅1厨1卫</td>\n",
       "      <td>中层(共6层)</td>\n",
       "      <td>NaN</td>\n",
       "      <td>住宅</td>\n",
       "      <td>平层</td>\n",
       "      <td>精装修</td>\n",
       "      <td>30.6</td>\n",
       "    </tr>\n",
       "    <tr>\n",
       "      <th>1</th>\n",
       "      <td>世纪大道站  福山外国语+建平西校 看房随时急卖</td>\n",
       "      <td>个人产权</td>\n",
       "      <td>普通住宅</td>\n",
       "      <td>塔楼</td>\n",
       "      <td>1989年</td>\n",
       "      <td>49.82</td>\n",
       "      <td>2室1厅0厨1卫</td>\n",
       "      <td>中层(共6层)</td>\n",
       "      <td>1元/平米・月</td>\n",
       "      <td>住宅</td>\n",
       "      <td>平层</td>\n",
       "      <td>简装修</td>\n",
       "      <td>418.0</td>\n",
       "    </tr>\n",
       "    <tr>\n",
       "      <th>2</th>\n",
       "      <td>大四房出售，带会所+高区景观+车位</td>\n",
       "      <td>个人产权</td>\n",
       "      <td>普通住宅</td>\n",
       "      <td>NaN</td>\n",
       "      <td>2005年</td>\n",
       "      <td>288.30</td>\n",
       "      <td>4室2厅0厨2卫</td>\n",
       "      <td>高层(共40层)</td>\n",
       "      <td>3.5元/平米・月</td>\n",
       "      <td>住宅</td>\n",
       "      <td>NaN</td>\n",
       "      <td>精装修</td>\n",
       "      <td>2650.0</td>\n",
       "    </tr>\n",
       "    <tr>\n",
       "      <th>3</th>\n",
       "      <td>精装二房全明户型户型好客厅主卧朝南带阳台看房方便</td>\n",
       "      <td>商品房</td>\n",
       "      <td>NaN</td>\n",
       "      <td>板楼</td>\n",
       "      <td>1994年</td>\n",
       "      <td>56.00</td>\n",
       "      <td>2室1厅1厨1卫</td>\n",
       "      <td>高层(共6层)</td>\n",
       "      <td>0.4元/平米・月</td>\n",
       "      <td>住宅</td>\n",
       "      <td>平层</td>\n",
       "      <td>简装修</td>\n",
       "      <td>280.0</td>\n",
       "    </tr>\n",
       "    <tr>\n",
       "      <th>4</th>\n",
       "      <td>满五税费少,房东接受置换客户,房东这边房子已经看好,急卖</td>\n",
       "      <td>个人产权</td>\n",
       "      <td>普通住宅</td>\n",
       "      <td>钢混</td>\n",
       "      <td>1998年</td>\n",
       "      <td>58.00</td>\n",
       "      <td>2室1厅1厨1卫</td>\n",
       "      <td>高层(共6层)</td>\n",
       "      <td>0.4元/平米・月</td>\n",
       "      <td>住宅</td>\n",
       "      <td>平层</td>\n",
       "      <td>精装修</td>\n",
       "      <td>190.0</td>\n",
       "    </tr>\n",
       "  </tbody>\n",
       "</table>\n",
       "</div>"
      ],
      "text/plain": [
       "                              標題  产权性质  住宅类别 建筑类别     年代    建筑面积        户型  \\\n",
       "0  急售70年产权房源 房东装修 户型正气 产证清晰 随时看房  个人产权  普通住宅   板楼  1989年   70.40  2室2厅1厨1卫   \n",
       "1       世纪大道站  福山外国语+建平西校 看房随时急卖  个人产权  普通住宅   塔楼  1989年   49.82  2室1厅0厨1卫   \n",
       "2              大四房出售，带会所+高区景观+车位  个人产权  普通住宅  NaN  2005年  288.30  4室2厅0厨2卫   \n",
       "3       精装二房全明户型户型好客厅主卧朝南带阳台看房方便   商品房   NaN   板楼  1994年   56.00  2室1厅1厨1卫   \n",
       "4   满五税费少,房东接受置换客户,房东这边房子已经看好,急卖  个人产权  普通住宅   钢混  1998年   58.00  2室1厅1厨1卫   \n",
       "\n",
       "         楼层      物 业 费 物业类型   结构   装修      總價  \n",
       "0   中层(共6层)        NaN   住宅   平层  精装修    30.6  \n",
       "1   中层(共6层)    1元/平米・月   住宅   平层  简装修   418.0  \n",
       "2  高层(共40层)  3.5元/平米・月   住宅  NaN  精装修  2650.0  \n",
       "3   高层(共6层)  0.4元/平米・月   住宅   平层  简装修   280.0  \n",
       "4   高层(共6层)  0.4元/平米・月   住宅   平层  精装修   190.0  "
      ]
     },
     "execution_count": 27,
     "metadata": {},
     "output_type": "execute_result"
    }
   ],
   "source": [
    "df = df.dropna(axis=1, how='all')\n",
    "df.head()"
   ]
  },
  {
   "cell_type": "code",
   "execution_count": 28,
   "metadata": {
    "pycharm": {
     "name": "#%%\n"
    }
   },
   "outputs": [
    {
     "data": {
      "text/html": [
       "<div>\n",
       "<style scoped>\n",
       "    .dataframe tbody tr th:only-of-type {\n",
       "        vertical-align: middle;\n",
       "    }\n",
       "\n",
       "    .dataframe tbody tr th {\n",
       "        vertical-align: top;\n",
       "    }\n",
       "\n",
       "    .dataframe thead th {\n",
       "        text-align: right;\n",
       "    }\n",
       "</style>\n",
       "<table border=\"1\" class=\"dataframe\">\n",
       "  <thead>\n",
       "    <tr style=\"text-align: right;\">\n",
       "      <th></th>\n",
       "      <th>標題</th>\n",
       "      <th>产权性质</th>\n",
       "      <th>住宅类别</th>\n",
       "      <th>建筑类别</th>\n",
       "      <th>年代</th>\n",
       "      <th>建筑面积</th>\n",
       "      <th>户型</th>\n",
       "      <th>楼层</th>\n",
       "      <th>物 业 费</th>\n",
       "      <th>物业类型</th>\n",
       "      <th>结构</th>\n",
       "      <th>装修</th>\n",
       "      <th>總價</th>\n",
       "    </tr>\n",
       "  </thead>\n",
       "  <tbody>\n",
       "    <tr>\n",
       "      <th>0</th>\n",
       "      <td>急售70年产权房源 房东装修 户型正气 产证清晰 随时看房</td>\n",
       "      <td>个人产权</td>\n",
       "      <td>普通住宅</td>\n",
       "      <td>板楼</td>\n",
       "      <td>1989年</td>\n",
       "      <td>70.40</td>\n",
       "      <td>2室2厅1厨1卫</td>\n",
       "      <td>中层(共6层)</td>\n",
       "      <td>0</td>\n",
       "      <td>住宅</td>\n",
       "      <td>平层</td>\n",
       "      <td>精装修</td>\n",
       "      <td>30.6</td>\n",
       "    </tr>\n",
       "    <tr>\n",
       "      <th>1</th>\n",
       "      <td>世纪大道站  福山外国语+建平西校 看房随时急卖</td>\n",
       "      <td>个人产权</td>\n",
       "      <td>普通住宅</td>\n",
       "      <td>塔楼</td>\n",
       "      <td>1989年</td>\n",
       "      <td>49.82</td>\n",
       "      <td>2室1厅0厨1卫</td>\n",
       "      <td>中层(共6层)</td>\n",
       "      <td>1元/平米・月</td>\n",
       "      <td>住宅</td>\n",
       "      <td>平层</td>\n",
       "      <td>简装修</td>\n",
       "      <td>418.0</td>\n",
       "    </tr>\n",
       "    <tr>\n",
       "      <th>2</th>\n",
       "      <td>大四房出售，带会所+高区景观+车位</td>\n",
       "      <td>个人产权</td>\n",
       "      <td>普通住宅</td>\n",
       "      <td>NaN</td>\n",
       "      <td>2005年</td>\n",
       "      <td>288.30</td>\n",
       "      <td>4室2厅0厨2卫</td>\n",
       "      <td>高层(共40层)</td>\n",
       "      <td>3.5元/平米・月</td>\n",
       "      <td>住宅</td>\n",
       "      <td>NaN</td>\n",
       "      <td>精装修</td>\n",
       "      <td>2650.0</td>\n",
       "    </tr>\n",
       "    <tr>\n",
       "      <th>3</th>\n",
       "      <td>精装二房全明户型户型好客厅主卧朝南带阳台看房方便</td>\n",
       "      <td>商品房</td>\n",
       "      <td>NaN</td>\n",
       "      <td>板楼</td>\n",
       "      <td>1994年</td>\n",
       "      <td>56.00</td>\n",
       "      <td>2室1厅1厨1卫</td>\n",
       "      <td>高层(共6层)</td>\n",
       "      <td>0.4元/平米・月</td>\n",
       "      <td>住宅</td>\n",
       "      <td>平层</td>\n",
       "      <td>简装修</td>\n",
       "      <td>280.0</td>\n",
       "    </tr>\n",
       "    <tr>\n",
       "      <th>4</th>\n",
       "      <td>满五税费少,房东接受置换客户,房东这边房子已经看好,急卖</td>\n",
       "      <td>个人产权</td>\n",
       "      <td>普通住宅</td>\n",
       "      <td>钢混</td>\n",
       "      <td>1998年</td>\n",
       "      <td>58.00</td>\n",
       "      <td>2室1厅1厨1卫</td>\n",
       "      <td>高层(共6层)</td>\n",
       "      <td>0.4元/平米・月</td>\n",
       "      <td>住宅</td>\n",
       "      <td>平层</td>\n",
       "      <td>精装修</td>\n",
       "      <td>190.0</td>\n",
       "    </tr>\n",
       "  </tbody>\n",
       "</table>\n",
       "</div>"
      ],
      "text/plain": [
       "                              標題  产权性质  住宅类别 建筑类别     年代    建筑面积        户型  \\\n",
       "0  急售70年产权房源 房东装修 户型正气 产证清晰 随时看房  个人产权  普通住宅   板楼  1989年   70.40  2室2厅1厨1卫   \n",
       "1       世纪大道站  福山外国语+建平西校 看房随时急卖  个人产权  普通住宅   塔楼  1989年   49.82  2室1厅0厨1卫   \n",
       "2              大四房出售，带会所+高区景观+车位  个人产权  普通住宅  NaN  2005年  288.30  4室2厅0厨2卫   \n",
       "3       精装二房全明户型户型好客厅主卧朝南带阳台看房方便   商品房   NaN   板楼  1994年   56.00  2室1厅1厨1卫   \n",
       "4   满五税费少,房东接受置换客户,房东这边房子已经看好,急卖  个人产权  普通住宅   钢混  1998年   58.00  2室1厅1厨1卫   \n",
       "\n",
       "         楼层      物 业 费 物业类型   结构   装修      總價  \n",
       "0   中层(共6层)          0   住宅   平层  精装修    30.6  \n",
       "1   中层(共6层)    1元/平米・月   住宅   平层  简装修   418.0  \n",
       "2  高层(共40层)  3.5元/平米・月   住宅  NaN  精装修  2650.0  \n",
       "3   高层(共6层)  0.4元/平米・月   住宅   平层  简装修   280.0  \n",
       "4   高层(共6层)  0.4元/平米・月   住宅   平层  精装修   190.0  "
      ]
     },
     "execution_count": 28,
     "metadata": {},
     "output_type": "execute_result"
    }
   ],
   "source": [
    "df['物 业 费'] = df['物 业 费'].fillna(0)\n",
    "df.head()"
   ]
  },
  {
   "cell_type": "code",
   "execution_count": 30,
   "metadata": {
    "pycharm": {
     "name": "#%%\n"
    }
   },
   "outputs": [
    {
     "data": {
      "text/plain": [
       "3"
      ]
     },
     "execution_count": 30,
     "metadata": {},
     "output_type": "execute_result"
    }
   ],
   "source": [
    "df['總價'].isnull().sum()"
   ]
  },
  {
   "cell_type": "code",
   "execution_count": 31,
   "metadata": {
    "pycharm": {
     "name": "#%%\n"
    }
   },
   "outputs": [
    {
     "data": {
      "text/plain": [
       "4.680711101665694"
      ]
     },
     "execution_count": 31,
     "metadata": {},
     "output_type": "execute_result"
    }
   ],
   "source": [
    "#先求平均单价\n",
    "(df['總價'] / df['建筑面积']).mean()"
   ]
  },
  {
   "cell_type": "code",
   "execution_count": 32,
   "metadata": {
    "pycharm": {
     "name": "#%%\n"
    }
   },
   "outputs": [],
   "source": [
    "df['總價'] = df['總價'].fillna(df['建筑面积'] * (df['總價'] / df['建筑面积']).mean())"
   ]
  },
  {
   "cell_type": "code",
   "execution_count": 33,
   "metadata": {
    "pycharm": {
     "name": "#%%\n"
    }
   },
   "outputs": [
    {
     "data": {
      "text/plain": [
       "0"
      ]
     },
     "execution_count": 33,
     "metadata": {},
     "output_type": "execute_result"
    }
   ],
   "source": [
    "df['總價'].isnull().sum()"
   ]
  },
  {
   "cell_type": "code",
   "execution_count": 36,
   "metadata": {
    "pycharm": {
     "name": "#%%\n"
    }
   },
   "outputs": [
    {
     "data": {
      "text/plain": [
       "0        30.600000\n",
       "1       418.000000\n",
       "2      2650.000000\n",
       "3       280.000000\n",
       "4       190.000000\n",
       "5       205.000000\n",
       "6      1000.000000\n",
       "7       230.000000\n",
       "8       273.000000\n",
       "9       410.000000\n",
       "10     1000.000000\n",
       "11     2798.000000\n",
       "12      180.000000\n",
       "13      185.000000\n",
       "14      508.000000\n",
       "15      270.000000\n",
       "16      700.000000\n",
       "17      258.000000\n",
       "18      219.993422\n",
       "19       90.000000\n",
       "20      340.000000\n",
       "21      318.000000\n",
       "22      420.000000\n",
       "23      900.000000\n",
       "24      453.000000\n",
       "25      270.000000\n",
       "26      330.000000\n",
       "27       80.000000\n",
       "28      690.000000\n",
       "29      600.000000\n",
       "          ...     \n",
       "210      81.000000\n",
       "211      58.000000\n",
       "212      58.000000\n",
       "213      60.000000\n",
       "214      65.000000\n",
       "215      78.000000\n",
       "216     154.000000\n",
       "217     230.000000\n",
       "218     220.000000\n",
       "219    1160.000000\n",
       "220     480.000000\n",
       "221     330.000000\n",
       "222     500.000000\n",
       "223    1000.000000\n",
       "224     360.000000\n",
       "225     230.000000\n",
       "226     900.000000\n",
       "227     525.000000\n",
       "228     468.000000\n",
       "229     858.000000\n",
       "230     460.000000\n",
       "231     400.000000\n",
       "232     200.000000\n",
       "233    1350.000000\n",
       "234     680.000000\n",
       "235     810.000000\n",
       "236      55.000000\n",
       "237     460.000000\n",
       "238    1250.000000\n",
       "239     278.000000\n",
       "Name: 總價, Length: 240, dtype: float64"
      ]
     },
     "execution_count": 36,
     "metadata": {},
     "output_type": "execute_result"
    }
   ],
   "source": [
    "df['總價']"
   ]
  },
  {
   "cell_type": "code",
   "execution_count": 37,
   "metadata": {
    "pycharm": {
     "name": "#%%\n"
    }
   },
   "outputs": [],
   "source": [
    "df.to_csv('house_final.csv')"
   ]
  },
  {
   "cell_type": "code",
   "execution_count": null,
   "metadata": {
    "pycharm": {
     "name": "#%%\n"
    }
   },
   "outputs": [],
   "source": []
  }
 ],
 "metadata": {
  "kernelspec": {
   "display_name": "Python 3",
   "language": "python",
   "name": "python3"
  },
  "language_info": {
   "codemirror_mode": {
    "name": "ipython",
    "version": 3
   },
   "file_extension": ".py",
   "mimetype": "text/x-python",
   "name": "python",
   "nbconvert_exporter": "python",
   "pygments_lexer": "ipython3",
   "version": "3.7.0"
  }
 },
 "nbformat": 4,
 "nbformat_minor": 2
}