{
 "cells": [
  {
   "cell_type": "markdown",
   "metadata": {},
   "source": [
    "### 第四天的课程内容\n",
    "\n",
    "1. 数据分析相关工作的介绍\n",
    "2. 数据清洗方法及实战\n",
    "3. 数据格式转换及格式重塑方法和实战\n",
    "4. 数据可视化"
   ]
  },
  {
   "cell_type": "markdown",
   "metadata": {},
   "source": [
    "### 数据分析的流程"
   ]
  },
  {
   "cell_type": "markdown",
   "metadata": {},
   "source": [
    "1. 数据相关的收集工作，根据数据分析的需求来分析我们需要什么样的数据，这些数据从哪里来，可以以什么样的方式来获取。\n",
    "2. 根据数据的不同特性来选择存储数据的方式，方便对数据进行管理和查询。\n",
    "3. 对数据进行清洗、整理和格式的转换重塑，以确保待分析数据的有效性，使最终的分析结果是正确可靠的。\n",
    "4. 分析建模，结合相关的机器学习的模型和算法，基于这些数据建立学习模型。\n",
    "5. 数据分析结果的预测和可视化处理。数据分析主要分为两大类，描述型数据分析，另一类是预测型的数据分析。<br>\n",
    "描述型数据分析主要利用概括、表述事物整体状况以及事物间的关联关系、类属关系的统计方法，是目前数据分析中最常见的数据分析类型，分析现状，通过统计处理可以简洁的用几个统计值来表示一组数据的集中性（如平均值、中位数以及众数）以及离散型（反应数据的波动大小，如方差、标准差）。\n",
    "预测型数据分析，主要利用监督学习、无监督学习以及深度学习相关的模型，利用已有的数据对事物未来的发展趋势进行预测。"
   ]
  },
  {
   "cell_type": "code",
   "execution_count": null,
   "metadata": {},
   "outputs": [],
   "source": []
  }
 ],
 "metadata": {
  "kernelspec": {
   "display_name": "Python 3",
   "language": "python",
   "name": "python3"
  },
  "language_info": {
   "codemirror_mode": {
    "name": "ipython",
    "version": 3
   },
   "file_extension": ".py",
   "mimetype": "text/x-python",
   "name": "python",
   "nbconvert_exporter": "python",
   "pygments_lexer": "ipython3",
   "version": "3.7.0"
  }
 },
 "nbformat": 4,
 "nbformat_minor": 2
}
