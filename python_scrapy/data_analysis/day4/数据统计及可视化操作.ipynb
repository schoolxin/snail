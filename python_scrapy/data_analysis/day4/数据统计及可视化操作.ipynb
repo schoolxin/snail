{
 "cells": [
  {
   "cell_type": "markdown",
   "metadata": {},
   "source": [
    "### 为什么要对数据进行可视化的操作？"
   ]
  },
  {
   "cell_type": "markdown",
   "metadata": {},
   "source": [
    "### 购买记录的分析"
   ]
  },
  {
   "cell_type": "code",
   "execution_count": 14,
   "metadata": {},
   "outputs": [
    {
     "data": {
      "text/html": [
       "<div>\n",
       "<style scoped>\n",
       "    .dataframe tbody tr th:only-of-type {\n",
       "        vertical-align: middle;\n",
       "    }\n",
       "\n",
       "    .dataframe tbody tr th {\n",
       "        vertical-align: top;\n",
       "    }\n",
       "\n",
       "    .dataframe thead th {\n",
       "        text-align: right;\n",
       "    }\n",
       "</style>\n",
       "<table border=\"1\" class=\"dataframe\">\n",
       "  <thead>\n",
       "    <tr style=\"text-align: right;\">\n",
       "      <th></th>\n",
       "      <th>Time</th>\n",
       "      <th>Action</th>\n",
       "      <th>User</th>\n",
       "      <th>Product</th>\n",
       "      <th>Quantity</th>\n",
       "      <th>Price</th>\n",
       "    </tr>\n",
       "  </thead>\n",
       "  <tbody>\n",
       "    <tr>\n",
       "      <th>0</th>\n",
       "      <td>2015-07-01 00:00:01</td>\n",
       "      <td>order</td>\n",
       "      <td>U312622727</td>\n",
       "      <td>P0006944501</td>\n",
       "      <td>1</td>\n",
       "      <td>1069.0</td>\n",
       "    </tr>\n",
       "    <tr>\n",
       "      <th>1</th>\n",
       "      <td>2015-07-01 00:00:03</td>\n",
       "      <td>order</td>\n",
       "      <td>U239012343</td>\n",
       "      <td>P0006018073</td>\n",
       "      <td>1</td>\n",
       "      <td>1680.0</td>\n",
       "    </tr>\n",
       "    <tr>\n",
       "      <th>2</th>\n",
       "      <td>2015-07-01 00:00:19</td>\n",
       "      <td>order</td>\n",
       "      <td>U10007697373</td>\n",
       "      <td>P0002267974</td>\n",
       "      <td>1</td>\n",
       "      <td>285.0</td>\n",
       "    </tr>\n",
       "    <tr>\n",
       "      <th>3</th>\n",
       "      <td>2015-07-01 00:01:10</td>\n",
       "      <td>order</td>\n",
       "      <td>U296328517</td>\n",
       "      <td>P0016144236</td>\n",
       "      <td>1</td>\n",
       "      <td>550.0</td>\n",
       "    </tr>\n",
       "    <tr>\n",
       "      <th>4</th>\n",
       "      <td>2015-07-01 00:01:36</td>\n",
       "      <td>order</td>\n",
       "      <td>U300884570</td>\n",
       "      <td>P0014516980122</td>\n",
       "      <td>1</td>\n",
       "      <td>249.0</td>\n",
       "    </tr>\n",
       "  </tbody>\n",
       "</table>\n",
       "</div>"
      ],
      "text/plain": [
       "                 Time Action          User         Product  Quantity   Price\n",
       "0 2015-07-01 00:00:01  order    U312622727     P0006944501         1  1069.0\n",
       "1 2015-07-01 00:00:03  order    U239012343     P0006018073         1  1680.0\n",
       "2 2015-07-01 00:00:19  order  U10007697373     P0002267974         1   285.0\n",
       "3 2015-07-01 00:01:10  order    U296328517     P0016144236         1   550.0\n",
       "4 2015-07-01 00:01:36  order    U300884570  P0014516980122         1   249.0"
      ]
     },
     "execution_count": 14,
     "metadata": {},
     "output_type": "execute_result"
    }
   ],
   "source": [
    "import pandas as pd\n",
    "\n",
    "m_cols = ['Time', 'Action', 'User', 'Product', 'Quantity', 'Price']\n",
    "\n",
    "orders = pd.read_csv('purchase_order.tab', sep='\\t', parse_dates=[0], names=m_cols, encoding='utf-8')\n",
    "orders.head()"
   ]
  },
  {
   "cell_type": "code",
   "execution_count": 2,
   "metadata": {},
   "outputs": [
    {
     "name": "stdout",
     "output_type": "stream",
     "text": [
      "<class 'pandas.core.frame.DataFrame'>\n",
      "RangeIndex: 54772 entries, 0 to 54771\n",
      "Data columns (total 6 columns):\n",
      "Time        54772 non-null datetime64[ns]\n",
      "Action      54772 non-null object\n",
      "User        54772 non-null object\n",
      "Product     54772 non-null object\n",
      "Quantity    54772 non-null int64\n",
      "Price       54721 non-null float64\n",
      "dtypes: datetime64[ns](1), float64(1), int64(1), object(3)\n",
      "memory usage: 2.5+ MB\n"
     ]
    }
   ],
   "source": [
    "orders.info()"
   ]
  },
  {
   "cell_type": "code",
   "execution_count": 4,
   "metadata": {},
   "outputs": [
    {
     "data": {
      "text/plain": [
       "0       1069.0\n",
       "9       1069.0\n",
       "775     1069.0\n",
       "2511    1069.0\n",
       "2515    1069.0\n",
       "2522    1069.0\n",
       "5457    1069.0\n",
       "5706    1069.0\n",
       "Name: Price, dtype: float64"
      ]
     },
     "execution_count": 4,
     "metadata": {},
     "output_type": "execute_result"
    }
   ],
   "source": [
    "orders[orders['Product'] == 'P0006944501']\n",
    "orders[orders['Product'] == 'P0006944501']['Price']"
   ]
  },
  {
   "cell_type": "code",
   "execution_count": 5,
   "metadata": {},
   "outputs": [
    {
     "data": {
      "text/plain": [
       "count       8.0\n",
       "mean     1069.0\n",
       "std         0.0\n",
       "min      1069.0\n",
       "25%      1069.0\n",
       "50%      1069.0\n",
       "75%      1069.0\n",
       "max      1069.0\n",
       "Name: Price, dtype: float64"
      ]
     },
     "execution_count": 5,
     "metadata": {},
     "output_type": "execute_result"
    }
   ],
   "source": [
    "orders[orders['Product'] == 'P0006944501']['Price'].describe()"
   ]
  },
  {
   "cell_type": "code",
   "execution_count": 7,
   "metadata": {},
   "outputs": [
    {
     "data": {
      "text/plain": [
       "20054"
      ]
     },
     "execution_count": 7,
     "metadata": {},
     "output_type": "execute_result"
    }
   ],
   "source": [
    "len(orders['Product'].unique())"
   ]
  },
  {
   "cell_type": "code",
   "execution_count": 8,
   "metadata": {},
   "outputs": [
    {
     "data": {
      "text/plain": [
       "Product\n",
       "P0000005913       1590.0\n",
       "P0000006020       1290.0\n",
       "P0000006591        999.0\n",
       "P0000007744       3280.0\n",
       "P0000008190011    5083.0\n",
       "Name: Price, dtype: float64"
      ]
     },
     "execution_count": 8,
     "metadata": {},
     "output_type": "execute_result"
    }
   ],
   "source": [
    "#如何查看每种商品的平均价格？\n",
    "#sql: select product, avg(price) from orders group by product limit 5\n",
    "orders.groupby('Product')['Price'].mean().head()"
   ]
  },
  {
   "cell_type": "code",
   "execution_count": 9,
   "metadata": {},
   "outputs": [
    {
     "data": {
      "text/plain": [
       "Product\n",
       "P0000143511    438888.0\n",
       "P0000143500    438888.0\n",
       "P0006584093    320000.0\n",
       "P0025280275    183900.0\n",
       "P0000150006    111375.0\n",
       "Name: Price, dtype: float64"
      ]
     },
     "execution_count": 9,
     "metadata": {},
     "output_type": "execute_result"
    }
   ],
   "source": [
    "orders.groupby('Product')['Price'].mean().sort_values(ascending=False).head()"
   ]
  },
  {
   "cell_type": "code",
   "execution_count": 10,
   "metadata": {},
   "outputs": [
    {
     "data": {
      "text/html": [
       "<div>\n",
       "<style scoped>\n",
       "    .dataframe tbody tr th:only-of-type {\n",
       "        vertical-align: middle;\n",
       "    }\n",
       "\n",
       "    .dataframe tbody tr th {\n",
       "        vertical-align: top;\n",
       "    }\n",
       "\n",
       "    .dataframe thead th {\n",
       "        text-align: right;\n",
       "    }\n",
       "</style>\n",
       "<table border=\"1\" class=\"dataframe\">\n",
       "  <thead>\n",
       "    <tr style=\"text-align: right;\">\n",
       "      <th></th>\n",
       "      <th>Time</th>\n",
       "      <th>Action</th>\n",
       "      <th>User</th>\n",
       "      <th>Product</th>\n",
       "      <th>Quantity</th>\n",
       "      <th>Price</th>\n",
       "      <th>Total_Price</th>\n",
       "    </tr>\n",
       "  </thead>\n",
       "  <tbody>\n",
       "    <tr>\n",
       "      <th>0</th>\n",
       "      <td>2015-07-01 00:00:01</td>\n",
       "      <td>order</td>\n",
       "      <td>U312622727</td>\n",
       "      <td>P0006944501</td>\n",
       "      <td>1</td>\n",
       "      <td>1069.0</td>\n",
       "      <td>1069.0</td>\n",
       "    </tr>\n",
       "    <tr>\n",
       "      <th>1</th>\n",
       "      <td>2015-07-01 00:00:03</td>\n",
       "      <td>order</td>\n",
       "      <td>U239012343</td>\n",
       "      <td>P0006018073</td>\n",
       "      <td>1</td>\n",
       "      <td>1680.0</td>\n",
       "      <td>1680.0</td>\n",
       "    </tr>\n",
       "    <tr>\n",
       "      <th>2</th>\n",
       "      <td>2015-07-01 00:00:19</td>\n",
       "      <td>order</td>\n",
       "      <td>U10007697373</td>\n",
       "      <td>P0002267974</td>\n",
       "      <td>1</td>\n",
       "      <td>285.0</td>\n",
       "      <td>285.0</td>\n",
       "    </tr>\n",
       "    <tr>\n",
       "      <th>3</th>\n",
       "      <td>2015-07-01 00:01:10</td>\n",
       "      <td>order</td>\n",
       "      <td>U296328517</td>\n",
       "      <td>P0016144236</td>\n",
       "      <td>1</td>\n",
       "      <td>550.0</td>\n",
       "      <td>550.0</td>\n",
       "    </tr>\n",
       "    <tr>\n",
       "      <th>4</th>\n",
       "      <td>2015-07-01 00:01:36</td>\n",
       "      <td>order</td>\n",
       "      <td>U300884570</td>\n",
       "      <td>P0014516980122</td>\n",
       "      <td>1</td>\n",
       "      <td>249.0</td>\n",
       "      <td>249.0</td>\n",
       "    </tr>\n",
       "  </tbody>\n",
       "</table>\n",
       "</div>"
      ],
      "text/plain": [
       "                 Time Action          User         Product  Quantity   Price  \\\n",
       "0 2015-07-01 00:00:01  order    U312622727     P0006944501         1  1069.0   \n",
       "1 2015-07-01 00:00:03  order    U239012343     P0006018073         1  1680.0   \n",
       "2 2015-07-01 00:00:19  order  U10007697373     P0002267974         1   285.0   \n",
       "3 2015-07-01 00:01:10  order    U296328517     P0016144236         1   550.0   \n",
       "4 2015-07-01 00:01:36  order    U300884570  P0014516980122         1   249.0   \n",
       "\n",
       "   Total_Price  \n",
       "0       1069.0  \n",
       "1       1680.0  \n",
       "2        285.0  \n",
       "3        550.0  \n",
       "4        249.0  "
      ]
     },
     "execution_count": 10,
     "metadata": {},
     "output_type": "execute_result"
    }
   ],
   "source": [
    "orders['Total_Price'] = orders['Quantity'] * orders['Price']\n",
    "orders.head()"
   ]
  },
  {
   "cell_type": "code",
   "execution_count": 11,
   "metadata": {},
   "outputs": [
    {
     "data": {
      "text/plain": [
       "User\n",
       "U166708333      2942744.0\n",
       "U10120098943    1451117.0\n",
       "U142809250       747550.0\n",
       "U1006283751      515688.0\n",
       "U10114715330     456782.0\n",
       "Name: Total_Price, dtype: float64"
      ]
     },
     "execution_count": 11,
     "metadata": {},
     "output_type": "execute_result"
    }
   ],
   "source": [
    "#分析每个用户消费的总金额，并降序排序\n",
    "# select user, sum(total_price) from orders group by user order by sum(total_price) desc limit 5\n",
    "orders.groupby('User')['Total_Price'].sum().sort_values(ascending=False).head()"
   ]
  },
  {
   "cell_type": "code",
   "execution_count": 13,
   "metadata": {},
   "outputs": [
    {
     "data": {
      "text/html": [
       "<div>\n",
       "<style scoped>\n",
       "    .dataframe tbody tr th:only-of-type {\n",
       "        vertical-align: middle;\n",
       "    }\n",
       "\n",
       "    .dataframe tbody tr th {\n",
       "        vertical-align: top;\n",
       "    }\n",
       "\n",
       "    .dataframe thead th {\n",
       "        text-align: right;\n",
       "    }\n",
       "</style>\n",
       "<table border=\"1\" class=\"dataframe\">\n",
       "  <thead>\n",
       "    <tr style=\"text-align: right;\">\n",
       "      <th></th>\n",
       "      <th>Time</th>\n",
       "      <th>Action</th>\n",
       "      <th>User</th>\n",
       "      <th>Product</th>\n",
       "    </tr>\n",
       "  </thead>\n",
       "  <tbody>\n",
       "    <tr>\n",
       "      <th>0</th>\n",
       "      <td>2015-07-01 00:00:01</td>\n",
       "      <td>view</td>\n",
       "      <td>U129297265</td>\n",
       "      <td>P0023468384</td>\n",
       "    </tr>\n",
       "    <tr>\n",
       "      <th>1</th>\n",
       "      <td>2015-07-01 00:00:03</td>\n",
       "      <td>view</td>\n",
       "      <td>U321001337</td>\n",
       "      <td>P0018926456</td>\n",
       "    </tr>\n",
       "    <tr>\n",
       "      <th>2</th>\n",
       "      <td>2015-07-01 00:00:05</td>\n",
       "      <td>view</td>\n",
       "      <td>U10070718237</td>\n",
       "      <td>P0000063593</td>\n",
       "    </tr>\n",
       "    <tr>\n",
       "      <th>3</th>\n",
       "      <td>2015-07-01 00:00:05</td>\n",
       "      <td>view</td>\n",
       "      <td>U393805241</td>\n",
       "      <td>P0005541535</td>\n",
       "    </tr>\n",
       "    <tr>\n",
       "      <th>4</th>\n",
       "      <td>2015-07-01 00:00:10</td>\n",
       "      <td>view</td>\n",
       "      <td>U10004621134</td>\n",
       "      <td>P0022135540</td>\n",
       "    </tr>\n",
       "  </tbody>\n",
       "</table>\n",
       "</div>"
      ],
      "text/plain": [
       "                 Time Action          User      Product\n",
       "0 2015-07-01 00:00:01   view    U129297265  P0023468384\n",
       "1 2015-07-01 00:00:03   view    U321001337  P0018926456\n",
       "2 2015-07-01 00:00:05   view  U10070718237  P0000063593\n",
       "3 2015-07-01 00:00:05   view    U393805241  P0005541535\n",
       "4 2015-07-01 00:00:10   view  U10004621134  P0022135540"
      ]
     },
     "execution_count": 13,
     "metadata": {},
     "output_type": "execute_result"
    }
   ],
   "source": [
    "import pandas as pd\n",
    "\n",
    "m_cols = ['Time', 'Action', 'User', 'Product']\n",
    "\n",
    "views = pd.read_csv('purchase_view.tab', sep='\\t', parse_dates=[0], names=m_cols, encoding='utf-8')\n",
    "views.head()"
   ]
  },
  {
   "cell_type": "code",
   "execution_count": 15,
   "metadata": {},
   "outputs": [
    {
     "name": "stdout",
     "output_type": "stream",
     "text": [
      "<class 'pandas.core.frame.DataFrame'>\n",
      "RangeIndex: 1191486 entries, 0 to 1191485\n",
      "Data columns (total 4 columns):\n",
      "Time       1191486 non-null datetime64[ns]\n",
      "Action     1191486 non-null object\n",
      "User       1191486 non-null object\n",
      "Product    1191486 non-null object\n",
      "dtypes: datetime64[ns](1), object(3)\n",
      "memory usage: 36.4+ MB\n"
     ]
    }
   ],
   "source": [
    "views.info()"
   ]
  },
  {
   "cell_type": "code",
   "execution_count": 18,
   "metadata": {},
   "outputs": [
    {
     "data": {
      "text/html": [
       "<div>\n",
       "<style scoped>\n",
       "    .dataframe tbody tr th:only-of-type {\n",
       "        vertical-align: middle;\n",
       "    }\n",
       "\n",
       "    .dataframe tbody tr th {\n",
       "        vertical-align: top;\n",
       "    }\n",
       "\n",
       "    .dataframe thead th {\n",
       "        text-align: right;\n",
       "    }\n",
       "</style>\n",
       "<table border=\"1\" class=\"dataframe\">\n",
       "  <thead>\n",
       "    <tr style=\"text-align: right;\">\n",
       "      <th></th>\n",
       "      <th>User</th>\n",
       "      <th>Product</th>\n",
       "      <th>buys</th>\n",
       "    </tr>\n",
       "  </thead>\n",
       "  <tbody>\n",
       "    <tr>\n",
       "      <th>0</th>\n",
       "      <td>U1000001354</td>\n",
       "      <td>P0014520085</td>\n",
       "      <td>1</td>\n",
       "    </tr>\n",
       "    <tr>\n",
       "      <th>1</th>\n",
       "      <td>U10000044910</td>\n",
       "      <td>P0018800250</td>\n",
       "      <td>1</td>\n",
       "    </tr>\n",
       "    <tr>\n",
       "      <th>2</th>\n",
       "      <td>U10000056953</td>\n",
       "      <td>P0003926850034</td>\n",
       "      <td>1</td>\n",
       "    </tr>\n",
       "    <tr>\n",
       "      <th>3</th>\n",
       "      <td>U10000056953</td>\n",
       "      <td>P0013344760004</td>\n",
       "      <td>2</td>\n",
       "    </tr>\n",
       "    <tr>\n",
       "      <th>4</th>\n",
       "      <td>U10000056953</td>\n",
       "      <td>P0013834251</td>\n",
       "      <td>1</td>\n",
       "    </tr>\n",
       "  </tbody>\n",
       "</table>\n",
       "</div>"
      ],
      "text/plain": [
       "           User         Product  buys\n",
       "0   U1000001354     P0014520085     1\n",
       "1  U10000044910     P0018800250     1\n",
       "2  U10000056953  P0003926850034     1\n",
       "3  U10000056953  P0013344760004     2\n",
       "4  U10000056953     P0013834251     1"
      ]
     },
     "execution_count": 18,
     "metadata": {},
     "output_type": "execute_result"
    }
   ],
   "source": [
    "#每个用户购买的每种产品的数目\n",
    "orders.groupby(['User', 'Product'])['Product'].count().reset_index(name='buys')\n",
    "orders_cnt = orders.groupby(['User', 'Product'])['Product'].count().reset_index(name='buys')\n",
    "orders_cnt.head()"
   ]
  },
  {
   "cell_type": "code",
   "execution_count": 19,
   "metadata": {},
   "outputs": [
    {
     "data": {
      "text/html": [
       "<div>\n",
       "<style scoped>\n",
       "    .dataframe tbody tr th:only-of-type {\n",
       "        vertical-align: middle;\n",
       "    }\n",
       "\n",
       "    .dataframe tbody tr th {\n",
       "        vertical-align: top;\n",
       "    }\n",
       "\n",
       "    .dataframe thead th {\n",
       "        text-align: right;\n",
       "    }\n",
       "</style>\n",
       "<table border=\"1\" class=\"dataframe\">\n",
       "  <thead>\n",
       "    <tr style=\"text-align: right;\">\n",
       "      <th></th>\n",
       "      <th>User</th>\n",
       "      <th>Product</th>\n",
       "      <th>views</th>\n",
       "    </tr>\n",
       "  </thead>\n",
       "  <tbody>\n",
       "    <tr>\n",
       "      <th>0</th>\n",
       "      <td>None</td>\n",
       "      <td>PNone</td>\n",
       "      <td>1</td>\n",
       "    </tr>\n",
       "    <tr>\n",
       "      <th>1</th>\n",
       "      <td>U10000000225</td>\n",
       "      <td>P0007107111</td>\n",
       "      <td>1</td>\n",
       "    </tr>\n",
       "    <tr>\n",
       "      <th>2</th>\n",
       "      <td>U10000000225</td>\n",
       "      <td>P0007107122</td>\n",
       "      <td>1</td>\n",
       "    </tr>\n",
       "    <tr>\n",
       "      <th>3</th>\n",
       "      <td>U10000000225</td>\n",
       "      <td>P0007107413</td>\n",
       "      <td>1</td>\n",
       "    </tr>\n",
       "    <tr>\n",
       "      <th>4</th>\n",
       "      <td>U10000000225</td>\n",
       "      <td>P0009440001</td>\n",
       "      <td>1</td>\n",
       "    </tr>\n",
       "  </tbody>\n",
       "</table>\n",
       "</div>"
      ],
      "text/plain": [
       "           User      Product  views\n",
       "0          None        PNone      1\n",
       "1  U10000000225  P0007107111      1\n",
       "2  U10000000225  P0007107122      1\n",
       "3  U10000000225  P0007107413      1\n",
       "4  U10000000225  P0009440001      1"
      ]
     },
     "execution_count": 19,
     "metadata": {},
     "output_type": "execute_result"
    }
   ],
   "source": [
    "#每个用户浏览每种产品的数目\n",
    "views_cnt = views.groupby(['User', 'Product'])['Product'].count().reset_index(name='views')\n",
    "views_cnt.head()"
   ]
  },
  {
   "cell_type": "code",
   "execution_count": 26,
   "metadata": {},
   "outputs": [
    {
     "data": {
      "text/plain": [
       "0    7\n",
       "1    7\n",
       "2    7\n",
       "3    7\n",
       "4    7\n",
       "Name: Time, dtype: int64"
      ]
     },
     "execution_count": 26,
     "metadata": {},
     "output_type": "execute_result"
    }
   ],
   "source": [
    "views['Time'].dt.date.head()\n",
    "views['Time'].dt.hour.head()\n",
    "views['Time'].head()\n",
    "views['Time'].dt.month.head()"
   ]
  },
  {
   "cell_type": "code",
   "execution_count": 29,
   "metadata": {},
   "outputs": [
    {
     "data": {
      "text/plain": [
       "Time\n",
       "2015-07-01    24569\n",
       "2015-07-02    17043\n",
       "2015-07-03    28041\n",
       "2015-07-04    28625\n",
       "2015-07-05    15522\n",
       "Name: Action, dtype: int64"
      ]
     },
     "execution_count": 29,
     "metadata": {},
     "output_type": "execute_result"
    }
   ],
   "source": [
    "#按浏览日期来统计浏览量\n",
    "views_cnt_by_dates = views.groupby(views['Time'].dt.date)['Action'].count()\n",
    "views_cnt_by_dates.head()"
   ]
  },
  {
   "cell_type": "markdown",
   "metadata": {},
   "source": [
    "#### matplotlib"
   ]
  },
  {
   "cell_type": "code",
   "execution_count": 31,
   "metadata": {},
   "outputs": [
    {
     "name": "stdout",
     "output_type": "stream",
     "text": [
      "Populating the interactive namespace from numpy and matplotlib\n"
     ]
    },
    {
     "data": {
      "text/plain": [
       "<matplotlib.axes._subplots.AxesSubplot at 0x19988fb0978>"
      ]
     },
     "execution_count": 31,
     "metadata": {},
     "output_type": "execute_result"
    },
    {
     "data": {
      "image/png": "[encoded data removed]",
      "text/plain": [
       "<Figure size 720x360 with 1 Axes>"
      ]
     },
     "metadata": {
      "needs_background": "light"
     },
     "output_type": "display_data"
    }
   ],
   "source": [
    "%pylab inline\n",
    "\n",
    "views_cnt_by_dates.plot(kind='line', figsize=[10, 5], rot=30)"
   ]
  },
  {
   "cell_type": "code",
   "execution_count": 32,
   "metadata": {},
   "outputs": [
    {
     "data": {
      "text/plain": [
       "Time\n",
       "0    69806\n",
       "1    42582\n",
       "2    24408\n",
       "3    15930\n",
       "4    10563\n",
       "Name: Action, dtype: int64"
      ]
     },
     "execution_count": 32,
     "metadata": {},
     "output_type": "execute_result"
    }
   ],
   "source": [
    "#按浏览日期来统计浏览量\n",
    "views_cnt_by_hours = views.groupby(views['Time'].dt.hour)['Action'].count()\n",
    "views_cnt_by_hours.head()"
   ]
  },
  {
   "cell_type": "code",
   "execution_count": 33,
   "metadata": {},
   "outputs": [
    {
     "name": "stdout",
     "output_type": "stream",
     "text": [
      "Populating the interactive namespace from numpy and matplotlib\n"
     ]
    },
    {
     "data": {
      "text/plain": [
       "<matplotlib.axes._subplots.AxesSubplot at 0x19988884710>"
      ]
     },
     "execution_count": 33,
     "metadata": {},
     "output_type": "execute_result"
    },
    {
     "data": {
      "image/png": "[encoded data removed]",
      "text/plain": [
       "<Figure size 720x360 with 1 Axes>"
      ]
     },
     "metadata": {
      "needs_background": "light"
     },
     "output_type": "display_data"
    }
   ],
   "source": [
    "%pylab inline\n",
    "\n",
    "views_cnt_by_hours.plot(kind='line', figsize=[10, 5], rot=30)"
   ]
  },
  {
   "cell_type": "code",
   "execution_count": 37,
   "metadata": {},
   "outputs": [],
   "source": [
    "orders_cnt_by_dates = orders.groupby(orders['Time'].dt.date)['Action'].count()"
   ]
  },
  {
   "cell_type": "code",
   "execution_count": 39,
   "metadata": {},
   "outputs": [
    {
     "data": {
      "text/html": [
       "<div>\n",
       "<style scoped>\n",
       "    .dataframe tbody tr th:only-of-type {\n",
       "        vertical-align: middle;\n",
       "    }\n",
       "\n",
       "    .dataframe tbody tr th {\n",
       "        vertical-align: top;\n",
       "    }\n",
       "\n",
       "    .dataframe thead th {\n",
       "        text-align: right;\n",
       "    }\n",
       "</style>\n",
       "<table border=\"1\" class=\"dataframe\">\n",
       "  <thead>\n",
       "    <tr style=\"text-align: right;\">\n",
       "      <th></th>\n",
       "      <th>Orders</th>\n",
       "      <th>Views</th>\n",
       "    </tr>\n",
       "  </thead>\n",
       "  <tbody>\n",
       "    <tr>\n",
       "      <th>2015-07-01</th>\n",
       "      <td>2324.0</td>\n",
       "      <td>24569</td>\n",
       "    </tr>\n",
       "    <tr>\n",
       "      <th>2015-07-02</th>\n",
       "      <td>2059.0</td>\n",
       "      <td>17043</td>\n",
       "    </tr>\n",
       "    <tr>\n",
       "      <th>2015-07-03</th>\n",
       "      <td>1778.0</td>\n",
       "      <td>28041</td>\n",
       "    </tr>\n",
       "    <tr>\n",
       "      <th>2015-07-04</th>\n",
       "      <td>2166.0</td>\n",
       "      <td>28625</td>\n",
       "    </tr>\n",
       "    <tr>\n",
       "      <th>2015-07-05</th>\n",
       "      <td>1413.0</td>\n",
       "      <td>15522</td>\n",
       "    </tr>\n",
       "  </tbody>\n",
       "</table>\n",
       "</div>"
      ],
      "text/plain": [
       "            Orders  Views\n",
       "2015-07-01  2324.0  24569\n",
       "2015-07-02  2059.0  17043\n",
       "2015-07-03  1778.0  28041\n",
       "2015-07-04  2166.0  28625\n",
       "2015-07-05  1413.0  15522"
      ]
     },
     "execution_count": 39,
     "metadata": {},
     "output_type": "execute_result"
    }
   ],
   "source": [
    "df = pd.concat([orders_cnt_by_dates, views_cnt_by_dates], axis=1, sort=False)\n",
    "df.dropna(inplace=True)\n",
    "df.columns = ['Orders', 'Views']\n",
    "df.head()"
   ]
  },
  {
   "cell_type": "code",
   "execution_count": 40,
   "metadata": {},
   "outputs": [
    {
     "data": {
      "text/plain": [
       "<matplotlib.axes._subplots.AxesSubplot at 0x199876c1f98>"
      ]
     },
     "execution_count": 40,
     "metadata": {},
     "output_type": "execute_result"
    },
    {
     "data": {
      "image/png": "[encoded data removed]",
      "text/plain": [
       "<Figure size 720x360 with 1 Axes>"
      ]
     },
     "metadata": {
      "needs_background": "light"
     },
     "output_type": "display_data"
    }
   ],
   "source": [
    "df.plot(kind='line', figsize=[10, 5])"
   ]
  },
  {
   "cell_type": "code",
   "execution_count": null,
   "metadata": {},
   "outputs": [],
   "source": []
  }
 ],
 "metadata": {
  "kernelspec": {
   "display_name": "Python 3",
   "language": "python",
   "name": "python3"
  },
  "language_info": {
   "codemirror_mode": {
    "name": "ipython",
    "version": 3
   },
   "file_extension": ".py",
   "mimetype": "text/x-python",
   "name": "python",
   "nbconvert_exporter": "python",
   "pygments_lexer": "ipython3",
   "version": "3.7.0"
  }
 },
 "nbformat": 4,
 "nbformat_minor": 2
}
