{
 "cells": [
  {
   "cell_type": "code",
   "metadata": {
    "collapsed": true,
    "pycharm": {
     "name": "#%%\n"
    }
   },
   "source": [
    "import pandas as pd\n",
    "columns = ['Time','Action','User','Product','Quantity','Price']\n",
    "orders = pd.read_csv(\"./day4/purchase_order.tab\",sep='\\t',parse_dates=[0],names=columns,encoding='utf-8') # parse_dates=[0]将日期列转换为日期类型\n",
    "orders.head()"
   ],
   "execution_count": 8,
   "outputs": [
    {
     "data": {
      "text/plain": "                 Time Action          User         Product  Quantity   Price\n0 2015-07-01 00:00:01  order    U312622727     P0006944501         1  1069.0\n1 2015-07-01 00:00:03  order    U239012343     P0006018073         1  1680.0\n2 2015-07-01 00:00:19  order  U10007697373     P0002267974         1   285.0\n3 2015-07-01 00:01:10  order    U296328517     P0016144236         1   550.0\n4 2015-07-01 00:01:36  order    U300884570  P0014516980122         1   249.0",
      "text/html": "<div>\n<style scoped>\n    .dataframe tbody tr th:only-of-type {\n        vertical-align: middle;\n    }\n\n    .dataframe tbody tr th {\n        vertical-align: top;\n    }\n\n    .dataframe thead th {\n        text-align: right;\n    }\n</style>\n<table border=\"1\" class=\"dataframe\">\n  <thead>\n    <tr style=\"text-align: right;\">\n      <th></th>\n      <th>Time</th>\n      <th>Action</th>\n      <th>User</th>\n      <th>Product</th>\n      <th>Quantity</th>\n      <th>Price</th>\n    </tr>\n  </thead>\n  <tbody>\n    <tr>\n      <th>0</th>\n      <td>2015-07-01 00:00:01</td>\n      <td>order</td>\n      <td>U312622727</td>\n      <td>P0006944501</td>\n      <td>1</td>\n      <td>1069.0</td>\n    </tr>\n    <tr>\n      <th>1</th>\n      <td>2015-07-01 00:00:03</td>\n      <td>order</td>\n      <td>U239012343</td>\n      <td>P0006018073</td>\n      <td>1</td>\n      <td>1680.0</td>\n    </tr>\n    <tr>\n      <th>2</th>\n      <td>2015-07-01 00:00:19</td>\n      <td>order</td>\n      <td>U10007697373</td>\n      <td>P0002267974</td>\n      <td>1</td>\n      <td>285.0</td>\n    </tr>\n    <tr>\n      <th>3</th>\n      <td>2015-07-01 00:01:10</td>\n      <td>order</td>\n      <td>U296328517</td>\n      <td>P0016144236</td>\n      <td>1</td>\n      <td>550.0</td>\n    </tr>\n    <tr>\n      <th>4</th>\n      <td>2015-07-01 00:01:36</td>\n      <td>order</td>\n      <td>U300884570</td>\n      <td>P0014516980122</td>\n      <td>1</td>\n      <td>249.0</td>\n    </tr>\n  </tbody>\n</table>\n</div>"
     },
     "execution_count": 8,
     "metadata": {},
     "output_type": "execute_result"
    }
   ]
  },
  {
   "cell_type": "code",
   "execution_count": 9,
   "outputs": [
    {
     "name": "stdout",
     "output_type": "stream",
     "text": [
      "<class 'pandas.core.frame.DataFrame'>\n",
      "RangeIndex: 54772 entries, 0 to 54771\n",
      "Data columns (total 6 columns):\n",
      " #   Column    Non-Null Count  Dtype         \n",
      "---  ------    --------------  -----         \n",
      " 0   Time      54772 non-null  datetime64[ns]\n",
      " 1   Action    54772 non-null  object        \n",
      " 2   User      54772 non-null  object        \n",
      " 3   Product   54772 non-null  object        \n",
      " 4   Quantity  54772 non-null  int64         \n",
      " 5   Price     54721 non-null  float64       \n",
      "dtypes: datetime64[ns](1), float64(1), int64(1), object(3)\n",
      "memory usage: 2.5+ MB\n"
     ]
    }
   ],
   "source": [
    "orders.info()"
   ],
   "metadata": {
    "collapsed": false,
    "pycharm": {
     "name": "#%%\n"
    }
   }
  },
  {
   "cell_type": "code",
   "execution_count": 11,
   "outputs": [
    {
     "data": {
      "text/plain": "0       1069.0\n9       1069.0\n775     1069.0\n2511    1069.0\n2515    1069.0\n2522    1069.0\n5457    1069.0\n5706    1069.0\nName: Price, dtype: float64"
     },
     "execution_count": 11,
     "metadata": {},
     "output_type": "execute_result"
    }
   ],
   "source": [
    "orders[orders['Product']=='P0006944501']\n",
    "orders[orders['Product']=='P0006944501']['Price']"
   ],
   "metadata": {
    "collapsed": false,
    "pycharm": {
     "name": "#%%\n"
    }
   }
  },
  {
   "cell_type": "code",
   "execution_count": 14,
   "outputs": [
    {
     "data": {
      "text/plain": "count       8.0\nmean     1069.0\nstd         0.0\nmin      1069.0\n25%      1069.0\n50%      1069.0\n75%      1069.0\nmax      1069.0\nName: Price, dtype: float64"
     },
     "execution_count": 14,
     "metadata": {},
     "output_type": "execute_result"
    }
   ],
   "source": [
    "orders[orders['Product']=='P0006944501']['Price'].describe()"
   ],
   "metadata": {
    "collapsed": false,
    "pycharm": {
     "name": "#%%\n"
    }
   }
  },
  {
   "cell_type": "code",
   "execution_count": 16,
   "outputs": [
    {
     "data": {
      "text/plain": "array(['P0006944501', 'P0006018073', 'P0002267974', ..., 'P0022884606',\n       'P0013911085', 'P0025123755'], dtype=object)"
     },
     "execution_count": 16,
     "metadata": {},
     "output_type": "execute_result"
    }
   ],
   "source": [
    "orders['Product'].unique()"
   ],
   "metadata": {
    "collapsed": false,
    "pycharm": {
     "name": "#%%\n"
    }
   }
  },
  {
   "cell_type": "code",
   "execution_count": 17,
   "outputs": [
    {
     "data": {
      "text/plain": "Product\nP0000005913       3\nP0000006020       1\nP0000006591       1\nP0000007744       2\nP0000008190011    1\n                 ..\nP0025361851       1\nP9913264561       8\nP9913264760       8\nP9913264771       2\nP9913265165       1\nName: Product, Length: 20054, dtype: int64"
     },
     "execution_count": 17,
     "metadata": {},
     "output_type": "execute_result"
    }
   ],
   "source": [
    "orders.groupby('Product')['Product'].count()"
   ],
   "metadata": {
    "collapsed": false,
    "pycharm": {
     "name": "#%%\n"
    }
   }
  },
  {
   "cell_type": "code",
   "execution_count": 21,
   "outputs": [
    {
     "data": {
      "text/plain": "Product\nP0000005913       1590.000\nP0000006020       1290.000\nP0000006591        999.000\nP0000007744       3280.000\nP0000008190011    5083.000\n                    ...   \nP0025361851       3149.000\nP9913264561       3040.625\nP9913264760       3000.000\nP9913264771       3100.000\nP9913265165        110.000\nName: Price, Length: 20054, dtype: float64"
     },
     "execution_count": 21,
     "metadata": {},
     "output_type": "execute_result"
    }
   ],
   "source": [
    "orders.groupby('Product')['Price'].mean()"
   ],
   "metadata": {
    "collapsed": false,
    "pycharm": {
     "name": "#%%\n"
    }
   }
  },
  {
   "cell_type": "code",
   "execution_count": 22,
   "outputs": [
    {
     "data": {
      "text/plain": "Product\nP0000143511    438888.0\nP0000143500    438888.0\nP0006584093    320000.0\nP0025280275    183900.0\nP0000150006    111375.0\n                 ...   \nP0022822984         NaN\nP0022827125         NaN\nP0023532655         NaN\nP0024243450         NaN\nP0025213134         NaN\nName: Price, Length: 20054, dtype: float64"
     },
     "execution_count": 22,
     "metadata": {},
     "output_type": "execute_result"
    }
   ],
   "source": [
    "orders.groupby('Product')['Price'].mean().sort_values(ascending=False) # 按平均价降序排列"
   ],
   "metadata": {
    "collapsed": false,
    "pycharm": {
     "name": "#%%\n"
    }
   }
  },
  {
   "cell_type": "code",
   "execution_count": 23,
   "outputs": [
    {
     "data": {
      "text/plain": "                 Time Action          User         Product  Quantity   Price  \\\n0 2015-07-01 00:00:01  order    U312622727     P0006944501         1  1069.0   \n1 2015-07-01 00:00:03  order    U239012343     P0006018073         1  1680.0   \n2 2015-07-01 00:00:19  order  U10007697373     P0002267974         1   285.0   \n3 2015-07-01 00:01:10  order    U296328517     P0016144236         1   550.0   \n4 2015-07-01 00:01:36  order    U300884570  P0014516980122         1   249.0   \n\n   Total_Price  \n0       1069.0  \n1       1680.0  \n2        285.0  \n3        550.0  \n4        249.0  ",
      "text/html": "<div>\n<style scoped>\n    .dataframe tbody tr th:only-of-type {\n        vertical-align: middle;\n    }\n\n    .dataframe tbody tr th {\n        vertical-align: top;\n    }\n\n    .dataframe thead th {\n        text-align: right;\n    }\n</style>\n<table border=\"1\" class=\"dataframe\">\n  <thead>\n    <tr style=\"text-align: right;\">\n      <th></th>\n      <th>Time</th>\n      <th>Action</th>\n      <th>User</th>\n      <th>Product</th>\n      <th>Quantity</th>\n      <th>Price</th>\n      <th>Total_Price</th>\n    </tr>\n  </thead>\n  <tbody>\n    <tr>\n      <th>0</th>\n      <td>2015-07-01 00:00:01</td>\n      <td>order</td>\n      <td>U312622727</td>\n      <td>P0006944501</td>\n      <td>1</td>\n      <td>1069.0</td>\n      <td>1069.0</td>\n    </tr>\n    <tr>\n      <th>1</th>\n      <td>2015-07-01 00:00:03</td>\n      <td>order</td>\n      <td>U239012343</td>\n      <td>P0006018073</td>\n      <td>1</td>\n      <td>1680.0</td>\n      <td>1680.0</td>\n    </tr>\n    <tr>\n      <th>2</th>\n      <td>2015-07-01 00:00:19</td>\n      <td>order</td>\n      <td>U10007697373</td>\n      <td>P0002267974</td>\n      <td>1</td>\n      <td>285.0</td>\n      <td>285.0</td>\n    </tr>\n    <tr>\n      <th>3</th>\n      <td>2015-07-01 00:01:10</td>\n      <td>order</td>\n      <td>U296328517</td>\n      <td>P0016144236</td>\n      <td>1</td>\n      <td>550.0</td>\n      <td>550.0</td>\n    </tr>\n    <tr>\n      <th>4</th>\n      <td>2015-07-01 00:01:36</td>\n      <td>order</td>\n      <td>U300884570</td>\n      <td>P0014516980122</td>\n      <td>1</td>\n      <td>249.0</td>\n      <td>249.0</td>\n    </tr>\n  </tbody>\n</table>\n</div>"
     },
     "execution_count": 23,
     "metadata": {},
     "output_type": "execute_result"
    }
   ],
   "source": [
    "orders['Total_Price'] = orders['Price'] * orders['Quantity']\n",
    "orders.head()"
   ],
   "metadata": {
    "collapsed": false,
    "pycharm": {
     "name": "#%%\n"
    }
   }
  },
  {
   "cell_type": "code",
   "execution_count": 29,
   "outputs": [
    {
     "data": {
      "text/plain": "User\nU166708333      2942744.0\nU10120098943    1451117.0\nU142809250       747550.0\nU1006283751      515688.0\nU10114715330     456782.0\nName: Total_Price, dtype: float64"
     },
     "execution_count": 29,
     "metadata": {},
     "output_type": "execute_result"
    }
   ],
   "source": [
    "# 分析每个用户消费的总金额 并且按降序排序\n",
    "orders.groupby('User')['Total_Price'].sum().sort_values(ascending=False).head()"
   ],
   "metadata": {
    "collapsed": false,
    "pycharm": {
     "name": "#%%\n"
    }
   }
  },
  {
   "cell_type": "code",
   "execution_count": null,
   "outputs": [],
   "source": [],
   "metadata": {
    "collapsed": false,
    "pycharm": {
     "name": "#%%\n"
    }
   }
  }
 ],
 "metadata": {
  "kernelspec": {
   "display_name": "Python 3",
   "language": "python",
   "name": "python3"
  },
  "language_info": {
   "codemirror_mode": {
    "name": "ipython",
    "version": 2
   },
   "file_extension": ".py",
   "mimetype": "text/x-python",
   "name": "python",
   "nbconvert_exporter": "python",
   "pygments_lexer": "ipython2",
   "version": "2.7.6"
  }
 },
 "nbformat": 4,
 "nbformat_minor": 0
}