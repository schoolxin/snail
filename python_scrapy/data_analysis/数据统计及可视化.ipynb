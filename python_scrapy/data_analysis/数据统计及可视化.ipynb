{
 "cells": [
  {
   "cell_type": "code",
   "metadata": {
    "collapsed": true,
    "pycharm": {
     "name": "#%%\n"
    }
   },
   "source": [
    "import pandas as pd\n",
    "columns = ['Time','Action','User','Product','Quantity','Price']\n",
    "orders = pd.read_csv(\"./day4/purchase_order.tab\",sep='\\t',parse_dates=[0],names=columns,encoding='utf-8') # parse_dates=[0]将日期列转换为日期类型\n",
    "orders.head()"
   ],
   "execution_count": 6,
   "outputs": [
    {
     "data": {
      "text/plain": "                 Time Action          User         Product  Quantity   Price\n0 2015-07-01 00:00:01  order    U312622727     P0006944501         1  1069.0\n1 2015-07-01 00:00:03  order    U239012343     P0006018073         1  1680.0\n2 2015-07-01 00:00:19  order  U10007697373     P0002267974         1   285.0\n3 2015-07-01 00:01:10  order    U296328517     P0016144236         1   550.0\n4 2015-07-01 00:01:36  order    U300884570  P0014516980122         1   249.0",
      "text/html": "<div>\n<style scoped>\n    .dataframe tbody tr th:only-of-type {\n        vertical-align: middle;\n    }\n\n    .dataframe tbody tr th {\n        vertical-align: top;\n    }\n\n    .dataframe thead th {\n        text-align: right;\n    }\n</style>\n<table border=\"1\" class=\"dataframe\">\n  <thead>\n    <tr style=\"text-align: right;\">\n      <th></th>\n      <th>Time</th>\n      <th>Action</th>\n      <th>User</th>\n      <th>Product</th>\n      <th>Quantity</th>\n      <th>Price</th>\n    </tr>\n  </thead>\n  <tbody>\n    <tr>\n      <th>0</th>\n      <td>2015-07-01 00:00:01</td>\n      <td>order</td>\n      <td>U312622727</td>\n      <td>P0006944501</td>\n      <td>1</td>\n      <td>1069.0</td>\n    </tr>\n    <tr>\n      <th>1</th>\n      <td>2015-07-01 00:00:03</td>\n      <td>order</td>\n      <td>U239012343</td>\n      <td>P0006018073</td>\n      <td>1</td>\n      <td>1680.0</td>\n    </tr>\n    <tr>\n      <th>2</th>\n      <td>2015-07-01 00:00:19</td>\n      <td>order</td>\n      <td>U10007697373</td>\n      <td>P0002267974</td>\n      <td>1</td>\n      <td>285.0</td>\n    </tr>\n    <tr>\n      <th>3</th>\n      <td>2015-07-01 00:01:10</td>\n      <td>order</td>\n      <td>U296328517</td>\n      <td>P0016144236</td>\n      <td>1</td>\n      <td>550.0</td>\n    </tr>\n    <tr>\n      <th>4</th>\n      <td>2015-07-01 00:01:36</td>\n      <td>order</td>\n      <td>U300884570</td>\n      <td>P0014516980122</td>\n      <td>1</td>\n      <td>249.0</td>\n    </tr>\n  </tbody>\n</table>\n</div>"
     },
     "execution_count": 6,
     "metadata": {},
     "output_type": "execute_result"
    }
   ]
  },
  {
   "cell_type": "code",
   "execution_count": 9,
   "outputs": [
    {
     "name": "stdout",
     "output_type": "stream",
     "text": [
      "<class 'pandas.core.frame.DataFrame'>\n",
      "RangeIndex: 54772 entries, 0 to 54771\n",
      "Data columns (total 6 columns):\n",
      " #   Column    Non-Null Count  Dtype         \n",
      "---  ------    --------------  -----         \n",
      " 0   Time      54772 non-null  datetime64[ns]\n",
      " 1   Action    54772 non-null  object        \n",
      " 2   User      54772 non-null  object        \n",
      " 3   Product   54772 non-null  object        \n",
      " 4   Quantity  54772 non-null  int64         \n",
      " 5   Price     54721 non-null  float64       \n",
      "dtypes: datetime64[ns](1), float64(1), int64(1), object(3)\n",
      "memory usage: 2.5+ MB\n"
     ]
    }
   ],
   "source": [
    "orders.info()"
   ],
   "metadata": {
    "collapsed": false,
    "pycharm": {
     "name": "#%%\n"
    }
   }
  },
  {
   "cell_type": "code",
   "execution_count": 11,
   "outputs": [
    {
     "data": {
      "text/plain": "0       1069.0\n9       1069.0\n775     1069.0\n2511    1069.0\n2515    1069.0\n2522    1069.0\n5457    1069.0\n5706    1069.0\nName: Price, dtype: float64"
     },
     "execution_count": 11,
     "metadata": {},
     "output_type": "execute_result"
    }
   ],
   "source": [
    "orders[orders['Product']=='P0006944501']\n",
    "orders[orders['Product']=='P0006944501']['Price']"
   ],
   "metadata": {
    "collapsed": false,
    "pycharm": {
     "name": "#%%\n"
    }
   }
  },
  {
   "cell_type": "code",
   "execution_count": 14,
   "outputs": [
    {
     "data": {
      "text/plain": "count       8.0\nmean     1069.0\nstd         0.0\nmin      1069.0\n25%      1069.0\n50%      1069.0\n75%      1069.0\nmax      1069.0\nName: Price, dtype: float64"
     },
     "execution_count": 14,
     "metadata": {},
     "output_type": "execute_result"
    }
   ],
   "source": [
    "orders[orders['Product']=='P0006944501']['Price'].describe()"
   ],
   "metadata": {
    "collapsed": false,
    "pycharm": {
     "name": "#%%\n"
    }
   }
  },
  {
   "cell_type": "code",
   "execution_count": 16,
   "outputs": [
    {
     "data": {
      "text/plain": "array(['P0006944501', 'P0006018073', 'P0002267974', ..., 'P0022884606',\n       'P0013911085', 'P0025123755'], dtype=object)"
     },
     "execution_count": 16,
     "metadata": {},
     "output_type": "execute_result"
    }
   ],
   "source": [
    "orders['Product'].unique()"
   ],
   "metadata": {
    "collapsed": false,
    "pycharm": {
     "name": "#%%\n"
    }
   }
  },
  {
   "cell_type": "code",
   "execution_count": 17,
   "outputs": [
    {
     "data": {
      "text/plain": "Product\nP0000005913       3\nP0000006020       1\nP0000006591       1\nP0000007744       2\nP0000008190011    1\n                 ..\nP0025361851       1\nP9913264561       8\nP9913264760       8\nP9913264771       2\nP9913265165       1\nName: Product, Length: 20054, dtype: int64"
     },
     "execution_count": 17,
     "metadata": {},
     "output_type": "execute_result"
    }
   ],
   "source": [
    "orders.groupby('Product')['Product'].count()"
   ],
   "metadata": {
    "collapsed": false,
    "pycharm": {
     "name": "#%%\n"
    }
   }
  },
  {
   "cell_type": "code",
   "execution_count": 21,
   "outputs": [
    {
     "data": {
      "text/plain": "Product\nP0000005913       1590.000\nP0000006020       1290.000\nP0000006591        999.000\nP0000007744       3280.000\nP0000008190011    5083.000\n                    ...   \nP0025361851       3149.000\nP9913264561       3040.625\nP9913264760       3000.000\nP9913264771       3100.000\nP9913265165        110.000\nName: Price, Length: 20054, dtype: float64"
     },
     "execution_count": 21,
     "metadata": {},
     "output_type": "execute_result"
    }
   ],
   "source": [
    "orders.groupby('Product')['Price'].mean()"
   ],
   "metadata": {
    "collapsed": false,
    "pycharm": {
     "name": "#%%\n"
    }
   }
  },
  {
   "cell_type": "code",
   "execution_count": 22,
   "outputs": [
    {
     "data": {
      "text/plain": "Product\nP0000143511    438888.0\nP0000143500    438888.0\nP0006584093    320000.0\nP0025280275    183900.0\nP0000150006    111375.0\n                 ...   \nP0022822984         NaN\nP0022827125         NaN\nP0023532655         NaN\nP0024243450         NaN\nP0025213134         NaN\nName: Price, Length: 20054, dtype: float64"
     },
     "execution_count": 22,
     "metadata": {},
     "output_type": "execute_result"
    }
   ],
   "source": [
    "orders.groupby('Product')['Price'].mean().sort_values(ascending=False) # 按平均价降序排列"
   ],
   "metadata": {
    "collapsed": false,
    "pycharm": {
     "name": "#%%\n"
    }
   }
  },
  {
   "cell_type": "code",
   "execution_count": 23,
   "outputs": [
    {
     "data": {
      "text/plain": "                 Time Action          User         Product  Quantity   Price  \\\n0 2015-07-01 00:00:01  order    U312622727     P0006944501         1  1069.0   \n1 2015-07-01 00:00:03  order    U239012343     P0006018073         1  1680.0   \n2 2015-07-01 00:00:19  order  U10007697373     P0002267974         1   285.0   \n3 2015-07-01 00:01:10  order    U296328517     P0016144236         1   550.0   \n4 2015-07-01 00:01:36  order    U300884570  P0014516980122         1   249.0   \n\n   Total_Price  \n0       1069.0  \n1       1680.0  \n2        285.0  \n3        550.0  \n4        249.0  ",
      "text/html": "<div>\n<style scoped>\n    .dataframe tbody tr th:only-of-type {\n        vertical-align: middle;\n    }\n\n    .dataframe tbody tr th {\n        vertical-align: top;\n    }\n\n    .dataframe thead th {\n        text-align: right;\n    }\n</style>\n<table border=\"1\" class=\"dataframe\">\n  <thead>\n    <tr style=\"text-align: right;\">\n      <th></th>\n      <th>Time</th>\n      <th>Action</th>\n      <th>User</th>\n      <th>Product</th>\n      <th>Quantity</th>\n      <th>Price</th>\n      <th>Total_Price</th>\n    </tr>\n  </thead>\n  <tbody>\n    <tr>\n      <th>0</th>\n      <td>2015-07-01 00:00:01</td>\n      <td>order</td>\n      <td>U312622727</td>\n      <td>P0006944501</td>\n      <td>1</td>\n      <td>1069.0</td>\n      <td>1069.0</td>\n    </tr>\n    <tr>\n      <th>1</th>\n      <td>2015-07-01 00:00:03</td>\n      <td>order</td>\n      <td>U239012343</td>\n      <td>P0006018073</td>\n      <td>1</td>\n      <td>1680.0</td>\n      <td>1680.0</td>\n    </tr>\n    <tr>\n      <th>2</th>\n      <td>2015-07-01 00:00:19</td>\n      <td>order</td>\n      <td>U10007697373</td>\n      <td>P0002267974</td>\n      <td>1</td>\n      <td>285.0</td>\n      <td>285.0</td>\n    </tr>\n    <tr>\n      <th>3</th>\n      <td>2015-07-01 00:01:10</td>\n      <td>order</td>\n      <td>U296328517</td>\n      <td>P0016144236</td>\n      <td>1</td>\n      <td>550.0</td>\n      <td>550.0</td>\n    </tr>\n    <tr>\n      <th>4</th>\n      <td>2015-07-01 00:01:36</td>\n      <td>order</td>\n      <td>U300884570</td>\n      <td>P0014516980122</td>\n      <td>1</td>\n      <td>249.0</td>\n      <td>249.0</td>\n    </tr>\n  </tbody>\n</table>\n</div>"
     },
     "execution_count": 23,
     "metadata": {},
     "output_type": "execute_result"
    }
   ],
   "source": [
    "orders['Total_Price'] = orders['Price'] * orders['Quantity']\n",
    "orders.head()"
   ],
   "metadata": {
    "collapsed": false,
    "pycharm": {
     "name": "#%%\n"
    }
   }
  },
  {
   "cell_type": "code",
   "execution_count": 29,
   "outputs": [
    {
     "data": {
      "text/plain": "User\nU166708333      2942744.0\nU10120098943    1451117.0\nU142809250       747550.0\nU1006283751      515688.0\nU10114715330     456782.0\nName: Total_Price, dtype: float64"
     },
     "execution_count": 29,
     "metadata": {},
     "output_type": "execute_result"
    }
   ],
   "source": [
    "# 分析每个用户消费的总金额 并且按降序排序\n",
    "orders.groupby('User')['Total_Price'].sum().sort_values(ascending=False).head()"
   ],
   "metadata": {
    "collapsed": false,
    "pycharm": {
     "name": "#%%\n"
    }
   }
  },
  {
   "cell_type": "code",
   "execution_count": 5,
   "outputs": [
    {
     "data": {
      "text/plain": "                 Time Action          User      Product\n0 2015-07-01 00:00:01   view    U129297265  P0023468384\n1 2015-07-01 00:00:03   view    U321001337  P0018926456\n2 2015-07-01 00:00:05   view  U10070718237  P0000063593\n3 2015-07-01 00:00:05   view    U393805241  P0005541535\n4 2015-07-01 00:00:10   view  U10004621134  P0022135540",
      "text/html": "<div>\n<style scoped>\n    .dataframe tbody tr th:only-of-type {\n        vertical-align: middle;\n    }\n\n    .dataframe tbody tr th {\n        vertical-align: top;\n    }\n\n    .dataframe thead th {\n        text-align: right;\n    }\n</style>\n<table border=\"1\" class=\"dataframe\">\n  <thead>\n    <tr style=\"text-align: right;\">\n      <th></th>\n      <th>Time</th>\n      <th>Action</th>\n      <th>User</th>\n      <th>Product</th>\n    </tr>\n  </thead>\n  <tbody>\n    <tr>\n      <th>0</th>\n      <td>2015-07-01 00:00:01</td>\n      <td>view</td>\n      <td>U129297265</td>\n      <td>P0023468384</td>\n    </tr>\n    <tr>\n      <th>1</th>\n      <td>2015-07-01 00:00:03</td>\n      <td>view</td>\n      <td>U321001337</td>\n      <td>P0018926456</td>\n    </tr>\n    <tr>\n      <th>2</th>\n      <td>2015-07-01 00:00:05</td>\n      <td>view</td>\n      <td>U10070718237</td>\n      <td>P0000063593</td>\n    </tr>\n    <tr>\n      <th>3</th>\n      <td>2015-07-01 00:00:05</td>\n      <td>view</td>\n      <td>U393805241</td>\n      <td>P0005541535</td>\n    </tr>\n    <tr>\n      <th>4</th>\n      <td>2015-07-01 00:00:10</td>\n      <td>view</td>\n      <td>U10004621134</td>\n      <td>P0022135540</td>\n    </tr>\n  </tbody>\n</table>\n</div>"
     },
     "execution_count": 5,
     "metadata": {},
     "output_type": "execute_result"
    }
   ],
   "source": [
    "import pandas as pd\n",
    "columns = ['Time','Action','User','Product']\n",
    "views = pd.read_csv(\"./day4/purchase_view.tab\",sep='\\t',parse_dates=[0],names=columns,encoding='utf-8') # parse_dates=[0]将日期列转换为日期类型\n",
    "views.head()"
   ],
   "metadata": {
    "collapsed": false,
    "pycharm": {
     "name": "#%%\n"
    }
   }
  },
  {
   "cell_type": "code",
   "execution_count": 15,
   "outputs": [
    {
     "data": {
      "text/plain": "           User         Product  buys\n0   U1000001354     P0014520085     1\n1  U10000044910     P0018800250     1\n2  U10000056953  P0003926850034     1\n3  U10000056953  P0013344760004     2\n4  U10000056953     P0013834251     1",
      "text/html": "<div>\n<style scoped>\n    .dataframe tbody tr th:only-of-type {\n        vertical-align: middle;\n    }\n\n    .dataframe tbody tr th {\n        vertical-align: top;\n    }\n\n    .dataframe thead th {\n        text-align: right;\n    }\n</style>\n<table border=\"1\" class=\"dataframe\">\n  <thead>\n    <tr style=\"text-align: right;\">\n      <th></th>\n      <th>User</th>\n      <th>Product</th>\n      <th>buys</th>\n    </tr>\n  </thead>\n  <tbody>\n    <tr>\n      <th>0</th>\n      <td>U1000001354</td>\n      <td>P0014520085</td>\n      <td>1</td>\n    </tr>\n    <tr>\n      <th>1</th>\n      <td>U10000044910</td>\n      <td>P0018800250</td>\n      <td>1</td>\n    </tr>\n    <tr>\n      <th>2</th>\n      <td>U10000056953</td>\n      <td>P0003926850034</td>\n      <td>1</td>\n    </tr>\n    <tr>\n      <th>3</th>\n      <td>U10000056953</td>\n      <td>P0013344760004</td>\n      <td>2</td>\n    </tr>\n    <tr>\n      <th>4</th>\n      <td>U10000056953</td>\n      <td>P0013834251</td>\n      <td>1</td>\n    </tr>\n  </tbody>\n</table>\n</div>"
     },
     "execution_count": 15,
     "metadata": {},
     "output_type": "execute_result"
    }
   ],
   "source": [
    "orders.groupby(['User','Product'])['Product'].count().reset_index(name='buys')    # 每个用户购买的每种商品的数量并且重新命名为buys\n",
    "orders_cnt = orders.groupby(['User','Product'])['Product'].count().reset_index(name='buys')\n",
    "orders_cnt.head()"
   ],
   "metadata": {
    "collapsed": false,
    "pycharm": {
     "name": "#%%\n"
    }
   }
  },
  {
   "cell_type": "code",
   "execution_count": 16,
   "outputs": [
    {
     "data": {
      "text/plain": "           User      Product  buys\n0          None        PNone     1\n1  U10000000225  P0007107111     1\n2  U10000000225  P0007107122     1\n3  U10000000225  P0007107413     1\n4  U10000000225  P0009440001     1",
      "text/html": "<div>\n<style scoped>\n    .dataframe tbody tr th:only-of-type {\n        vertical-align: middle;\n    }\n\n    .dataframe tbody tr th {\n        vertical-align: top;\n    }\n\n    .dataframe thead th {\n        text-align: right;\n    }\n</style>\n<table border=\"1\" class=\"dataframe\">\n  <thead>\n    <tr style=\"text-align: right;\">\n      <th></th>\n      <th>User</th>\n      <th>Product</th>\n      <th>buys</th>\n    </tr>\n  </thead>\n  <tbody>\n    <tr>\n      <th>0</th>\n      <td>None</td>\n      <td>PNone</td>\n      <td>1</td>\n    </tr>\n    <tr>\n      <th>1</th>\n      <td>U10000000225</td>\n      <td>P0007107111</td>\n      <td>1</td>\n    </tr>\n    <tr>\n      <th>2</th>\n      <td>U10000000225</td>\n      <td>P0007107122</td>\n      <td>1</td>\n    </tr>\n    <tr>\n      <th>3</th>\n      <td>U10000000225</td>\n      <td>P0007107413</td>\n      <td>1</td>\n    </tr>\n    <tr>\n      <th>4</th>\n      <td>U10000000225</td>\n      <td>P0009440001</td>\n      <td>1</td>\n    </tr>\n  </tbody>\n</table>\n</div>"
     },
     "execution_count": 16,
     "metadata": {},
     "output_type": "execute_result"
    }
   ],
   "source": [
    "#每个用户对每个商品的浏览数目\n",
    "views_cnt = views.groupby(['User','Product'])['Product'].count().reset_index(name='buys')\n",
    "views_cnt.head()\n"
   ],
   "metadata": {
    "collapsed": false,
    "pycharm": {
     "name": "#%%\n"
    }
   }
  },
  {
   "cell_type": "code",
   "execution_count": 23,
   "outputs": [
    {
     "data": {
      "text/plain": "0    7\n1    7\n2    7\n3    7\n4    7\nName: Time, dtype: int64"
     },
     "execution_count": 23,
     "metadata": {},
     "output_type": "execute_result"
    }
   ],
   "source": [
    "views['Time'].dt.date.head() # 获取日期\n",
    "views['Time'].dt.hour.head() # 获取小时\n",
    "views['Time'].dt.minute.head() # 获取分钟\n",
    "views['Time'].dt.month.head() # 获取分钟"
   ],
   "metadata": {
    "collapsed": false,
    "pycharm": {
     "name": "#%%\n"
    }
   }
  },
  {
   "cell_type": "code",
   "execution_count": 28,
   "outputs": [
    {
     "data": {
      "text/plain": "Time\n2015-07-01    24569\n2015-07-02    17043\n2015-07-03    28041\n2015-07-04    28625\n2015-07-05    15522\nName: Action, dtype: int64"
     },
     "execution_count": 28,
     "metadata": {},
     "output_type": "execute_result"
    }
   ],
   "source": [
    "# 根据浏览日期统计浏览量\n",
    "views_cnt_by_dates = views.groupby(views['Time'].dt.date)['Action'].count()\n",
    "views_cnt_by_dates.head()"
   ],
   "metadata": {
    "collapsed": false,
    "pycharm": {
     "name": "#%%\n"
    }
   }
  },
  {
   "cell_type": "markdown",
   "source": [
    "### matplotlib"
   ],
   "metadata": {
    "collapsed": false,
    "pycharm": {
     "name": "#%% md\n"
    }
   }
  },
  {
   "cell_type": "code",
   "execution_count": 40,
   "outputs": [
    {
     "name": "stdout",
     "output_type": "stream",
     "text": [
      "Populating the interactive namespace from numpy and matplotlib\n"
     ]
    },
    {
     "data": {
      "text/plain": "<AxesSubplot:xlabel='Time'>"
     },
     "execution_count": 40,
     "metadata": {},
     "output_type": "execute_result"
    },
    {
     "data": {
      "text/plain": "<Figure size 720x360 with 1 Axes>",
      "image/png": "[encoded data removed]"
     },
     "metadata": {
      "needs_background": "light"
     },
     "output_type": "display_data"
    }
   ],
   "source": [
    "%pylab inline\n",
    "views_cnt_by_dates.plot(kind='line',figsize=[10,5],rot=50)"
   ],
   "metadata": {
    "collapsed": false,
    "pycharm": {
     "name": "#%%\n"
    }
   }
  },
  {
   "cell_type": "code",
   "execution_count": 43,
   "outputs": [
    {
     "data": {
      "text/plain": "Time\n2015-07-01    2324\n2015-07-02    2059\n2015-07-03    1778\n2015-07-04    2166\n2015-07-05    1413\nName: Action, dtype: int64"
     },
     "execution_count": 43,
     "metadata": {},
     "output_type": "execute_result"
    }
   ],
   "source": [
    "orders_cnt_by_dates = orders.groupby(orders['Time'].dt.date)['Action'].count()\n",
    "orders_cnt_by_dates.head()"
   ],
   "metadata": {
    "collapsed": false,
    "pycharm": {
     "name": "#%%\n"
    }
   }
  },
  {
   "cell_type": "code",
   "execution_count": 48,
   "outputs": [
    {
     "data": {
      "text/plain": "            Action  Action\n2015-07-01  2324.0   24569\n2015-07-02  2059.0   17043\n2015-07-03  1778.0   28041\n2015-07-04  2166.0   28625\n2015-07-05  1413.0   15522\n2015-07-06  1903.0   19756\n2015-07-07  1046.0   11823\n2015-07-08  1184.0   12809\n2015-07-09  1585.0   16248\n2015-07-10  1661.0   15763\n2015-07-11  1919.0   19197\n2015-07-12  1759.0   14655\n2015-07-13  1828.0   15018\n2015-07-14  1581.0   14570\n2015-07-15  1967.0   19465\n2015-07-16  3009.0   23480\n2015-07-17  1890.0   18417\n2015-07-18  1775.0   17966\n2015-07-19  2314.0   19337\n2015-07-20   881.0   11203\n2015-07-21  1010.0   12002\n2015-07-22  1232.0   13573\n2015-07-23  1789.0   17491\n2015-07-24  1622.0   15941\n2015-07-25  1855.0   16266\n2015-07-26  1481.0   13339\n2015-07-27  1526.0   13552\n2015-07-28  1490.0   19294\n2015-07-29  2290.0   31437\n2015-07-30  4435.0   45390",
      "text/html": "<div>\n<style scoped>\n    .dataframe tbody tr th:only-of-type {\n        vertical-align: middle;\n    }\n\n    .dataframe tbody tr th {\n        vertical-align: top;\n    }\n\n    .dataframe thead th {\n        text-align: right;\n    }\n</style>\n<table border=\"1\" class=\"dataframe\">\n  <thead>\n    <tr style=\"text-align: right;\">\n      <th></th>\n      <th>Action</th>\n      <th>Action</th>\n    </tr>\n  </thead>\n  <tbody>\n    <tr>\n      <th>2015-07-01</th>\n      <td>2324.0</td>\n      <td>24569</td>\n    </tr>\n    <tr>\n      <th>2015-07-02</th>\n      <td>2059.0</td>\n      <td>17043</td>\n    </tr>\n    <tr>\n      <th>2015-07-03</th>\n      <td>1778.0</td>\n      <td>28041</td>\n    </tr>\n    <tr>\n      <th>2015-07-04</th>\n      <td>2166.0</td>\n      <td>28625</td>\n    </tr>\n    <tr>\n      <th>2015-07-05</th>\n      <td>1413.0</td>\n      <td>15522</td>\n    </tr>\n    <tr>\n      <th>2015-07-06</th>\n      <td>1903.0</td>\n      <td>19756</td>\n    </tr>\n    <tr>\n      <th>2015-07-07</th>\n      <td>1046.0</td>\n      <td>11823</td>\n    </tr>\n    <tr>\n      <th>2015-07-08</th>\n      <td>1184.0</td>\n      <td>12809</td>\n    </tr>\n    <tr>\n      <th>2015-07-09</th>\n      <td>1585.0</td>\n      <td>16248</td>\n    </tr>\n    <tr>\n      <th>2015-07-10</th>\n      <td>1661.0</td>\n      <td>15763</td>\n    </tr>\n    <tr>\n      <th>2015-07-11</th>\n      <td>1919.0</td>\n      <td>19197</td>\n    </tr>\n    <tr>\n      <th>2015-07-12</th>\n      <td>1759.0</td>\n      <td>14655</td>\n    </tr>\n    <tr>\n      <th>2015-07-13</th>\n      <td>1828.0</td>\n      <td>15018</td>\n    </tr>\n    <tr>\n      <th>2015-07-14</th>\n      <td>1581.0</td>\n      <td>14570</td>\n    </tr>\n    <tr>\n      <th>2015-07-15</th>\n      <td>1967.0</td>\n      <td>19465</td>\n    </tr>\n    <tr>\n      <th>2015-07-16</th>\n      <td>3009.0</td>\n      <td>23480</td>\n    </tr>\n    <tr>\n      <th>2015-07-17</th>\n      <td>1890.0</td>\n      <td>18417</td>\n    </tr>\n    <tr>\n      <th>2015-07-18</th>\n      <td>1775.0</td>\n      <td>17966</td>\n    </tr>\n    <tr>\n      <th>2015-07-19</th>\n      <td>2314.0</td>\n      <td>19337</td>\n    </tr>\n    <tr>\n      <th>2015-07-20</th>\n      <td>881.0</td>\n      <td>11203</td>\n    </tr>\n    <tr>\n      <th>2015-07-21</th>\n      <td>1010.0</td>\n      <td>12002</td>\n    </tr>\n    <tr>\n      <th>2015-07-22</th>\n      <td>1232.0</td>\n      <td>13573</td>\n    </tr>\n    <tr>\n      <th>2015-07-23</th>\n      <td>1789.0</td>\n      <td>17491</td>\n    </tr>\n    <tr>\n      <th>2015-07-24</th>\n      <td>1622.0</td>\n      <td>15941</td>\n    </tr>\n    <tr>\n      <th>2015-07-25</th>\n      <td>1855.0</td>\n      <td>16266</td>\n    </tr>\n    <tr>\n      <th>2015-07-26</th>\n      <td>1481.0</td>\n      <td>13339</td>\n    </tr>\n    <tr>\n      <th>2015-07-27</th>\n      <td>1526.0</td>\n      <td>13552</td>\n    </tr>\n    <tr>\n      <th>2015-07-28</th>\n      <td>1490.0</td>\n      <td>19294</td>\n    </tr>\n    <tr>\n      <th>2015-07-29</th>\n      <td>2290.0</td>\n      <td>31437</td>\n    </tr>\n    <tr>\n      <th>2015-07-30</th>\n      <td>4435.0</td>\n      <td>45390</td>\n    </tr>\n  </tbody>\n</table>\n</div>"
     },
     "execution_count": 48,
     "metadata": {},
     "output_type": "execute_result"
    }
   ],
   "source": [
    "df = pd.concat([orders_cnt_by_dates,views_cnt_by_dates],axis=1,sort=False)\n",
    "df.dropna(inplace=True)"
   ],
   "metadata": {
    "collapsed": false,
    "pycharm": {
     "name": "#%%\n"
    }
   }
  },
  {
   "cell_type": "code",
   "execution_count": 50,
   "outputs": [
    {
     "data": {
      "text/plain": "            Orders  Views\n2015-07-01  2324.0  24569\n2015-07-02  2059.0  17043\n2015-07-03  1778.0  28041\n2015-07-04  2166.0  28625\n2015-07-05  1413.0  15522\n2015-07-06  1903.0  19756\n2015-07-07  1046.0  11823\n2015-07-08  1184.0  12809\n2015-07-09  1585.0  16248\n2015-07-10  1661.0  15763\n2015-07-11  1919.0  19197\n2015-07-12  1759.0  14655\n2015-07-13  1828.0  15018\n2015-07-14  1581.0  14570\n2015-07-15  1967.0  19465\n2015-07-16  3009.0  23480\n2015-07-17  1890.0  18417\n2015-07-18  1775.0  17966\n2015-07-19  2314.0  19337\n2015-07-20   881.0  11203\n2015-07-21  1010.0  12002\n2015-07-22  1232.0  13573\n2015-07-23  1789.0  17491\n2015-07-24  1622.0  15941\n2015-07-25  1855.0  16266\n2015-07-26  1481.0  13339\n2015-07-27  1526.0  13552\n2015-07-28  1490.0  19294\n2015-07-29  2290.0  31437\n2015-07-30  4435.0  45390",
      "text/html": "<div>\n<style scoped>\n    .dataframe tbody tr th:only-of-type {\n        vertical-align: middle;\n    }\n\n    .dataframe tbody tr th {\n        vertical-align: top;\n    }\n\n    .dataframe thead th {\n        text-align: right;\n    }\n</style>\n<table border=\"1\" class=\"dataframe\">\n  <thead>\n    <tr style=\"text-align: right;\">\n      <th></th>\n      <th>Orders</th>\n      <th>Views</th>\n    </tr>\n  </thead>\n  <tbody>\n    <tr>\n      <th>2015-07-01</th>\n      <td>2324.0</td>\n      <td>24569</td>\n    </tr>\n    <tr>\n      <th>2015-07-02</th>\n      <td>2059.0</td>\n      <td>17043</td>\n    </tr>\n    <tr>\n      <th>2015-07-03</th>\n      <td>1778.0</td>\n      <td>28041</td>\n    </tr>\n    <tr>\n      <th>2015-07-04</th>\n      <td>2166.0</td>\n      <td>28625</td>\n    </tr>\n    <tr>\n      <th>2015-07-05</th>\n      <td>1413.0</td>\n      <td>15522</td>\n    </tr>\n    <tr>\n      <th>2015-07-06</th>\n      <td>1903.0</td>\n      <td>19756</td>\n    </tr>\n    <tr>\n      <th>2015-07-07</th>\n      <td>1046.0</td>\n      <td>11823</td>\n    </tr>\n    <tr>\n      <th>2015-07-08</th>\n      <td>1184.0</td>\n      <td>12809</td>\n    </tr>\n    <tr>\n      <th>2015-07-09</th>\n      <td>1585.0</td>\n      <td>16248</td>\n    </tr>\n    <tr>\n      <th>2015-07-10</th>\n      <td>1661.0</td>\n      <td>15763</td>\n    </tr>\n    <tr>\n      <th>2015-07-11</th>\n      <td>1919.0</td>\n      <td>19197</td>\n    </tr>\n    <tr>\n      <th>2015-07-12</th>\n      <td>1759.0</td>\n      <td>14655</td>\n    </tr>\n    <tr>\n      <th>2015-07-13</th>\n      <td>1828.0</td>\n      <td>15018</td>\n    </tr>\n    <tr>\n      <th>2015-07-14</th>\n      <td>1581.0</td>\n      <td>14570</td>\n    </tr>\n    <tr>\n      <th>2015-07-15</th>\n      <td>1967.0</td>\n      <td>19465</td>\n    </tr>\n    <tr>\n      <th>2015-07-16</th>\n      <td>3009.0</td>\n      <td>23480</td>\n    </tr>\n    <tr>\n      <th>2015-07-17</th>\n      <td>1890.0</td>\n      <td>18417</td>\n    </tr>\n    <tr>\n      <th>2015-07-18</th>\n      <td>1775.0</td>\n      <td>17966</td>\n    </tr>\n    <tr>\n      <th>2015-07-19</th>\n      <td>2314.0</td>\n      <td>19337</td>\n    </tr>\n    <tr>\n      <th>2015-07-20</th>\n      <td>881.0</td>\n      <td>11203</td>\n    </tr>\n    <tr>\n      <th>2015-07-21</th>\n      <td>1010.0</td>\n      <td>12002</td>\n    </tr>\n    <tr>\n      <th>2015-07-22</th>\n      <td>1232.0</td>\n      <td>13573</td>\n    </tr>\n    <tr>\n      <th>2015-07-23</th>\n      <td>1789.0</td>\n      <td>17491</td>\n    </tr>\n    <tr>\n      <th>2015-07-24</th>\n      <td>1622.0</td>\n      <td>15941</td>\n    </tr>\n    <tr>\n      <th>2015-07-25</th>\n      <td>1855.0</td>\n      <td>16266</td>\n    </tr>\n    <tr>\n      <th>2015-07-26</th>\n      <td>1481.0</td>\n      <td>13339</td>\n    </tr>\n    <tr>\n      <th>2015-07-27</th>\n      <td>1526.0</td>\n      <td>13552</td>\n    </tr>\n    <tr>\n      <th>2015-07-28</th>\n      <td>1490.0</td>\n      <td>19294</td>\n    </tr>\n    <tr>\n      <th>2015-07-29</th>\n      <td>2290.0</td>\n      <td>31437</td>\n    </tr>\n    <tr>\n      <th>2015-07-30</th>\n      <td>4435.0</td>\n      <td>45390</td>\n    </tr>\n  </tbody>\n</table>\n</div>"
     },
     "execution_count": 50,
     "metadata": {},
     "output_type": "execute_result"
    }
   ],
   "source": [
    "df.columns=['Orders','Views']\n",
    "df"
   ],
   "metadata": {
    "collapsed": false,
    "pycharm": {
     "name": "#%%\n"
    }
   }
  },
  {
   "cell_type": "code",
   "execution_count": 51,
   "outputs": [
    {
     "data": {
      "text/plain": "<AxesSubplot:>"
     },
     "execution_count": 51,
     "metadata": {},
     "output_type": "execute_result"
    },
    {
     "data": {
      "text/plain": "<Figure size 720x360 with 1 Axes>",
      "image/png": "[encoded data removed]"
     },
     "metadata": {
      "needs_background": "light"
     },
     "output_type": "display_data"
    }
   ],
   "source": [
    "df.plot(kind='line',figsize=[10,5],rot=20)"
   ],
   "metadata": {
    "collapsed": false,
    "pycharm": {
     "name": "#%%\n"
    }
   }
  },
  {
   "cell_type": "code",
   "execution_count": null,
   "outputs": [],
   "source": [],
   "metadata": {
    "collapsed": false,
    "pycharm": {
     "name": "#%%\n"
    }
   }
  }
 ],
 "metadata": {
  "kernelspec": {
   "display_name": "Python 3",
   "language": "python",
   "name": "python3"
  },
  "language_info": {
   "codemirror_mode": {
    "name": "ipython",
    "version": 2
   },
   "file_extension": ".py",
   "mimetype": "text/x-python",
   "name": "python",
   "nbconvert_exporter": "python",
   "pygments_lexer": "ipython2",
   "version": "2.7.6"
  }
 },
 "nbformat": 4,
 "nbformat_minor": 0
}